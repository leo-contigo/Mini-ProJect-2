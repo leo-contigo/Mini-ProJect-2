{
 "cells": [
  {
   "cell_type": "code",
   "execution_count": 10,
   "id": "ddeb9643",
   "metadata": {},
   "outputs": [
    {
     "data": {
      "application/vnd.plotly.v1+json": {
       "config": {
        "plotlyServerURL": "https://plot.ly"
       },
       "data": [
        {
         "hovertemplate": "<b>%{hovertext}</b><br><br>업종명=건강보조식품 소매업<br>시도명=%{x}<br>이용금액=%{y}<extra></extra>",
         "hovertext": [
          "건강보조식품 소매업",
          "건강보조식품 소매업"
         ],
         "legendgroup": "건강보조식품 소매업",
         "marker": {
          "color": "#636efa"
         },
         "name": "건강보조식품 소매업",
         "orientation": "v",
         "showlegend": true,
         "type": "funnel",
         "x": [
          "서귀포시",
          "제주시"
         ],
         "xaxis": "x",
         "y": [
          4464,
          22623
         ],
         "yaxis": "y"
        },
        {
         "hovertemplate": "<b>%{hovertext}</b><br><br>업종명=골프장 운영업<br>시도명=%{x}<br>이용금액=%{y}<extra></extra>",
         "hovertext": [
          "골프장 운영업",
          "골프장 운영업"
         ],
         "legendgroup": "골프장 운영업",
         "marker": {
          "color": "#EF553B"
         },
         "name": "골프장 운영업",
         "orientation": "v",
         "showlegend": true,
         "type": "funnel",
         "x": [
          "서귀포시",
          "제주시"
         ],
         "xaxis": "x",
         "y": [
          57834,
          73496
         ],
         "yaxis": "y"
        },
        {
         "hovertemplate": "<b>%{hovertext}</b><br><br>업종명=과실 및 채소 소매업<br>시도명=%{x}<br>이용금액=%{y}<extra></extra>",
         "hovertext": [
          "과실 및 채소 소매업",
          "과실 및 채소 소매업"
         ],
         "legendgroup": "과실 및 채소 소매업",
         "marker": {
          "color": "#00cc96"
         },
         "name": "과실 및 채소 소매업",
         "orientation": "v",
         "showlegend": true,
         "type": "funnel",
         "x": [
          "서귀포시",
          "제주시"
         ],
         "xaxis": "x",
         "y": [
          63666,
          55293
         ],
         "yaxis": "y"
        },
        {
         "hovertemplate": "<b>%{hovertext}</b><br><br>업종명=관광 민예품 및 선물용품 소매업<br>시도명=%{x}<br>이용금액=%{y}<extra></extra>",
         "hovertext": [
          "관광 민예품 및 선물용품 소매업",
          "관광 민예품 및 선물용품 소매업"
         ],
         "legendgroup": "관광 민예품 및 선물용품 소매업",
         "marker": {
          "color": "#ab63fa"
         },
         "name": "관광 민예품 및 선물용품 소매업",
         "orientation": "v",
         "showlegend": true,
         "type": "funnel",
         "x": [
          "서귀포시",
          "제주시"
         ],
         "xaxis": "x",
         "y": [
          10810,
          19180
         ],
         "yaxis": "y"
        },
        {
         "hovertemplate": "<b>%{hovertext}</b><br><br>업종명=그외 기타 분류안된 오락관련 서비스업<br>시도명=%{x}<br>이용금액=%{y}<extra></extra>",
         "hovertext": [
          "그외 기타 분류안된 오락관련 서비스업",
          "그외 기타 분류안된 오락관련 서비스업"
         ],
         "legendgroup": "그외 기타 분류안된 오락관련 서비스업",
         "marker": {
          "color": "#FFA15A"
         },
         "name": "그외 기타 분류안된 오락관련 서비스업",
         "orientation": "v",
         "showlegend": true,
         "type": "funnel",
         "x": [
          "서귀포시",
          "제주시"
         ],
         "xaxis": "x",
         "y": [
          83,
          102
         ],
         "yaxis": "y"
        },
        {
         "hovertemplate": "<b>%{hovertext}</b><br><br>업종명=그외 기타 스포츠시설 운영업<br>시도명=%{x}<br>이용금액=%{y}<extra></extra>",
         "hovertext": [
          "그외 기타 스포츠시설 운영업",
          "그외 기타 스포츠시설 운영업"
         ],
         "legendgroup": "그외 기타 스포츠시설 운영업",
         "marker": {
          "color": "#19d3f3"
         },
         "name": "그외 기타 스포츠시설 운영업",
         "orientation": "v",
         "showlegend": true,
         "type": "funnel",
         "x": [
          "서귀포시",
          "제주시"
         ],
         "xaxis": "x",
         "y": [
          981,
          898
         ],
         "yaxis": "y"
        },
        {
         "hovertemplate": "<b>%{hovertext}</b><br><br>업종명=그외 기타 종합 소매업<br>시도명=%{x}<br>이용금액=%{y}<extra></extra>",
         "hovertext": [
          "그외 기타 종합 소매업",
          "그외 기타 종합 소매업"
         ],
         "legendgroup": "그외 기타 종합 소매업",
         "marker": {
          "color": "#FF6692"
         },
         "name": "그외 기타 종합 소매업",
         "orientation": "v",
         "showlegend": true,
         "type": "funnel",
         "x": [
          "서귀포시",
          "제주시"
         ],
         "xaxis": "x",
         "y": [
          3284,
          113819
         ],
         "yaxis": "y"
        },
        {
         "hovertemplate": "<b>%{hovertext}</b><br><br>업종명=기타 대형 종합 소매업<br>시도명=%{x}<br>이용금액=%{y}<extra></extra>",
         "hovertext": [
          "기타 대형 종합 소매업",
          "기타 대형 종합 소매업"
         ],
         "legendgroup": "기타 대형 종합 소매업",
         "marker": {
          "color": "#B6E880"
         },
         "name": "기타 대형 종합 소매업",
         "orientation": "v",
         "showlegend": true,
         "type": "funnel",
         "x": [
          "서귀포시",
          "제주시"
         ],
         "xaxis": "x",
         "y": [
          76690,
          140045
         ],
         "yaxis": "y"
        },
        {
         "hovertemplate": "<b>%{hovertext}</b><br><br>업종명=기타 수상오락 서비스업<br>시도명=%{x}<br>이용금액=%{y}<extra></extra>",
         "hovertext": [
          "기타 수상오락 서비스업",
          "기타 수상오락 서비스업"
         ],
         "legendgroup": "기타 수상오락 서비스업",
         "marker": {
          "color": "#FF97FF"
         },
         "name": "기타 수상오락 서비스업",
         "orientation": "v",
         "showlegend": true,
         "type": "funnel",
         "x": [
          "서귀포시",
          "제주시"
         ],
         "xaxis": "x",
         "y": [
          144,
          251
         ],
         "yaxis": "y"
        },
        {
         "hovertemplate": "<b>%{hovertext}</b><br><br>업종명=기타 외국식 음식점업<br>시도명=%{x}<br>이용금액=%{y}<extra></extra>",
         "hovertext": [
          "기타 외국식 음식점업",
          "기타 외국식 음식점업"
         ],
         "legendgroup": "기타 외국식 음식점업",
         "marker": {
          "color": "#FECB52"
         },
         "name": "기타 외국식 음식점업",
         "orientation": "v",
         "showlegend": true,
         "type": "funnel",
         "x": [
          "서귀포시",
          "제주시"
         ],
         "xaxis": "x",
         "y": [
          13017,
          16888
         ],
         "yaxis": "y"
        },
        {
         "hovertemplate": "<b>%{hovertext}</b><br><br>업종명=기타 주점업<br>시도명=%{x}<br>이용금액=%{y}<extra></extra>",
         "hovertext": [
          "기타 주점업",
          "기타 주점업"
         ],
         "legendgroup": "기타 주점업",
         "marker": {
          "color": "#636efa"
         },
         "name": "기타 주점업",
         "orientation": "v",
         "showlegend": true,
         "type": "funnel",
         "x": [
          "서귀포시",
          "제주시"
         ],
         "xaxis": "x",
         "y": [
          27733,
          38198
         ],
         "yaxis": "y"
        },
        {
         "hovertemplate": "<b>%{hovertext}</b><br><br>업종명=기타음식료품위주종합소매업<br>시도명=%{x}<br>이용금액=%{y}<extra></extra>",
         "hovertext": [
          "기타음식료품위주종합소매업",
          "기타음식료품위주종합소매업"
         ],
         "legendgroup": "기타음식료품위주종합소매업",
         "marker": {
          "color": "#EF553B"
         },
         "name": "기타음식료품위주종합소매업",
         "orientation": "v",
         "showlegend": true,
         "type": "funnel",
         "x": [
          "서귀포시",
          "제주시"
         ],
         "xaxis": "x",
         "y": [
          83014,
          74581
         ],
         "yaxis": "y"
        },
        {
         "hovertemplate": "<b>%{hovertext}</b><br><br>업종명=내항 여객 운송업<br>시도명=%{x}<br>이용금액=%{y}<extra></extra>",
         "hovertext": [
          "내항 여객 운송업",
          "내항 여객 운송업"
         ],
         "legendgroup": "내항 여객 운송업",
         "marker": {
          "color": "#00cc96"
         },
         "name": "내항 여객 운송업",
         "orientation": "v",
         "showlegend": true,
         "type": "funnel",
         "x": [
          "서귀포시",
          "제주시"
         ],
         "xaxis": "x",
         "y": [
          3097,
          7449
         ],
         "yaxis": "y"
        },
        {
         "hovertemplate": "<b>%{hovertext}</b><br><br>업종명=마사지업<br>시도명=%{x}<br>이용금액=%{y}<extra></extra>",
         "hovertext": [
          "마사지업",
          "마사지업"
         ],
         "legendgroup": "마사지업",
         "marker": {
          "color": "#ab63fa"
         },
         "name": "마사지업",
         "orientation": "v",
         "showlegend": true,
         "type": "funnel",
         "x": [
          "서귀포시",
          "제주시"
         ],
         "xaxis": "x",
         "y": [
          291,
          425
         ],
         "yaxis": "y"
        },
        {
         "hovertemplate": "<b>%{hovertext}</b><br><br>업종명=비알콜 음료점업<br>시도명=%{x}<br>이용금액=%{y}<extra></extra>",
         "hovertext": [
          "비알콜 음료점업",
          "비알콜 음료점업"
         ],
         "legendgroup": "비알콜 음료점업",
         "marker": {
          "color": "#FFA15A"
         },
         "name": "비알콜 음료점업",
         "orientation": "v",
         "showlegend": true,
         "type": "funnel",
         "x": [
          "서귀포시",
          "제주시"
         ],
         "xaxis": "x",
         "y": [
          14065,
          31360
         ],
         "yaxis": "y"
        },
        {
         "hovertemplate": "<b>%{hovertext}</b><br><br>업종명=빵 및 과자류 소매업<br>시도명=%{x}<br>이용금액=%{y}<extra></extra>",
         "hovertext": [
          "빵 및 과자류 소매업",
          "빵 및 과자류 소매업"
         ],
         "legendgroup": "빵 및 과자류 소매업",
         "marker": {
          "color": "#19d3f3"
         },
         "name": "빵 및 과자류 소매업",
         "orientation": "v",
         "showlegend": true,
         "type": "funnel",
         "x": [
          "서귀포시",
          "제주시"
         ],
         "xaxis": "x",
         "y": [
          25260,
          42896
         ],
         "yaxis": "y"
        },
        {
         "hovertemplate": "<b>%{hovertext}</b><br><br>업종명=서양식 음식점업<br>시도명=%{x}<br>이용금액=%{y}<extra></extra>",
         "hovertext": [
          "서양식 음식점업",
          "서양식 음식점업"
         ],
         "legendgroup": "서양식 음식점업",
         "marker": {
          "color": "#FF6692"
         },
         "name": "서양식 음식점업",
         "orientation": "v",
         "showlegend": true,
         "type": "funnel",
         "x": [
          "서귀포시",
          "제주시"
         ],
         "xaxis": "x",
         "y": [
          51558,
          74298
         ],
         "yaxis": "y"
        },
        {
         "hovertemplate": "<b>%{hovertext}</b><br><br>업종명=수산물 소매업<br>시도명=%{x}<br>이용금액=%{y}<extra></extra>",
         "hovertext": [
          "수산물 소매업",
          "수산물 소매업"
         ],
         "legendgroup": "수산물 소매업",
         "marker": {
          "color": "#B6E880"
         },
         "name": "수산물 소매업",
         "orientation": "v",
         "showlegend": true,
         "type": "funnel",
         "x": [
          "서귀포시",
          "제주시"
         ],
         "xaxis": "x",
         "y": [
          47966,
          50525
         ],
         "yaxis": "y"
        },
        {
         "hovertemplate": "<b>%{hovertext}</b><br><br>업종명=슈퍼마켓<br>시도명=%{x}<br>이용금액=%{y}<extra></extra>",
         "hovertext": [
          "슈퍼마켓",
          "슈퍼마켓"
         ],
         "legendgroup": "슈퍼마켓",
         "marker": {
          "color": "#FF97FF"
         },
         "name": "슈퍼마켓",
         "orientation": "v",
         "showlegend": true,
         "type": "funnel",
         "x": [
          "서귀포시",
          "제주시"
         ],
         "xaxis": "x",
         "y": [
          157839,
          340059
         ],
         "yaxis": "y"
        },
        {
         "hovertemplate": "<b>%{hovertext}</b><br><br>업종명=스포츠 및 레크레이션 용품 임대업<br>시도명=%{x}<br>이용금액=%{y}<extra></extra>",
         "hovertext": [
          "스포츠 및 레크레이션 용품 임대업",
          "스포츠 및 레크레이션 용품 임대업"
         ],
         "legendgroup": "스포츠 및 레크레이션 용품 임대업",
         "marker": {
          "color": "#FECB52"
         },
         "name": "스포츠 및 레크레이션 용품 임대업",
         "orientation": "v",
         "showlegend": true,
         "type": "funnel",
         "x": [
          "서귀포시",
          "제주시"
         ],
         "xaxis": "x",
         "y": [
          61116,
          82360
         ],
         "yaxis": "y"
        },
        {
         "hovertemplate": "<b>%{hovertext}</b><br><br>업종명=여관업<br>시도명=%{x}<br>이용금액=%{y}<extra></extra>",
         "hovertext": [
          "여관업",
          "여관업"
         ],
         "legendgroup": "여관업",
         "marker": {
          "color": "#636efa"
         },
         "name": "여관업",
         "orientation": "v",
         "showlegend": true,
         "type": "funnel",
         "x": [
          "서귀포시",
          "제주시"
         ],
         "xaxis": "x",
         "y": [
          89911,
          76166
         ],
         "yaxis": "y"
        },
        {
         "hovertemplate": "<b>%{hovertext}</b><br><br>업종명=여행사업<br>시도명=%{x}<br>이용금액=%{y}<extra></extra>",
         "hovertext": [
          "여행사업",
          "여행사업"
         ],
         "legendgroup": "여행사업",
         "marker": {
          "color": "#EF553B"
         },
         "name": "여행사업",
         "orientation": "v",
         "showlegend": true,
         "type": "funnel",
         "x": [
          "서귀포시",
          "제주시"
         ],
         "xaxis": "x",
         "y": [
          493,
          18308
         ],
         "yaxis": "y"
        },
        {
         "hovertemplate": "<b>%{hovertext}</b><br><br>업종명=욕탕업<br>시도명=%{x}<br>이용금액=%{y}<extra></extra>",
         "hovertext": [
          "욕탕업",
          "욕탕업"
         ],
         "legendgroup": "욕탕업",
         "marker": {
          "color": "#00cc96"
         },
         "name": "욕탕업",
         "orientation": "v",
         "showlegend": true,
         "type": "funnel",
         "x": [
          "서귀포시",
          "제주시"
         ],
         "xaxis": "x",
         "y": [
          2781,
          6002
         ],
         "yaxis": "y"
        },
        {
         "hovertemplate": "<b>%{hovertext}</b><br><br>업종명=육류 소매업<br>시도명=%{x}<br>이용금액=%{y}<extra></extra>",
         "hovertext": [
          "육류 소매업",
          "육류 소매업"
         ],
         "legendgroup": "육류 소매업",
         "marker": {
          "color": "#ab63fa"
         },
         "name": "육류 소매업",
         "orientation": "v",
         "showlegend": true,
         "type": "funnel",
         "x": [
          "서귀포시",
          "제주시"
         ],
         "xaxis": "x",
         "y": [
          29686,
          51196
         ],
         "yaxis": "y"
        },
        {
         "hovertemplate": "<b>%{hovertext}</b><br><br>업종명=일반유흥 주점업<br>시도명=%{x}<br>이용금액=%{y}<extra></extra>",
         "hovertext": [
          "일반유흥 주점업",
          "일반유흥 주점업"
         ],
         "legendgroup": "일반유흥 주점업",
         "marker": {
          "color": "#FFA15A"
         },
         "name": "일반유흥 주점업",
         "orientation": "v",
         "showlegend": true,
         "type": "funnel",
         "x": [
          "서귀포시",
          "제주시"
         ],
         "xaxis": "x",
         "y": [
          80200,
          76513
         ],
         "yaxis": "y"
        },
        {
         "hovertemplate": "<b>%{hovertext}</b><br><br>업종명=일식 음식점업<br>시도명=%{x}<br>이용금액=%{y}<extra></extra>",
         "hovertext": [
          "일식 음식점업",
          "일식 음식점업"
         ],
         "legendgroup": "일식 음식점업",
         "marker": {
          "color": "#19d3f3"
         },
         "name": "일식 음식점업",
         "orientation": "v",
         "showlegend": true,
         "type": "funnel",
         "x": [
          "서귀포시",
          "제주시"
         ],
         "xaxis": "x",
         "y": [
          74611,
          64652
         ],
         "yaxis": "y"
        },
        {
         "hovertemplate": "<b>%{hovertext}</b><br><br>업종명=자동차 임대업<br>시도명=%{x}<br>이용금액=%{y}<extra></extra>",
         "hovertext": [
          "자동차 임대업",
          "자동차 임대업"
         ],
         "legendgroup": "자동차 임대업",
         "marker": {
          "color": "#FF6692"
         },
         "name": "자동차 임대업",
         "orientation": "v",
         "showlegend": true,
         "type": "funnel",
         "x": [
          "서귀포시",
          "제주시"
         ],
         "xaxis": "x",
         "y": [
          84,
          42281
         ],
         "yaxis": "y"
        },
        {
         "hovertemplate": "<b>%{hovertext}</b><br><br>업종명=전시 및 행사 대행업<br>시도명=%{x}<br>이용금액=%{y}<extra></extra>",
         "hovertext": [
          "전시 및 행사 대행업",
          "전시 및 행사 대행업"
         ],
         "legendgroup": "전시 및 행사 대행업",
         "marker": {
          "color": "#B6E880"
         },
         "name": "전시 및 행사 대행업",
         "orientation": "v",
         "showlegend": true,
         "type": "funnel",
         "x": [
          "서귀포시",
          "제주시"
         ],
         "xaxis": "x",
         "y": [
          25901,
          19252
         ],
         "yaxis": "y"
        },
        {
         "hovertemplate": "<b>%{hovertext}</b><br><br>업종명=중식 음식점업<br>시도명=%{x}<br>이용금액=%{y}<extra></extra>",
         "hovertext": [
          "중식 음식점업",
          "중식 음식점업"
         ],
         "legendgroup": "중식 음식점업",
         "marker": {
          "color": "#FF97FF"
         },
         "name": "중식 음식점업",
         "orientation": "v",
         "showlegend": true,
         "type": "funnel",
         "x": [
          "서귀포시",
          "제주시"
         ],
         "xaxis": "x",
         "y": [
          21109,
          32338
         ],
         "yaxis": "y"
        },
        {
         "hovertemplate": "<b>%{hovertext}</b><br><br>업종명=차량용 가스 충전업<br>시도명=%{x}<br>이용금액=%{y}<extra></extra>",
         "hovertext": [
          "차량용 가스 충전업",
          "차량용 가스 충전업"
         ],
         "legendgroup": "차량용 가스 충전업",
         "marker": {
          "color": "#FECB52"
         },
         "name": "차량용 가스 충전업",
         "orientation": "v",
         "showlegend": true,
         "type": "funnel",
         "x": [
          "서귀포시",
          "제주시"
         ],
         "xaxis": "x",
         "y": [
          8897,
          21013
         ],
         "yaxis": "y"
        },
        {
         "hovertemplate": "<b>%{hovertext}</b><br><br>업종명=차량용 주유소 운영업<br>시도명=%{x}<br>이용금액=%{y}<extra></extra>",
         "hovertext": [
          "차량용 주유소 운영업",
          "차량용 주유소 운영업"
         ],
         "legendgroup": "차량용 주유소 운영업",
         "marker": {
          "color": "#636efa"
         },
         "name": "차량용 주유소 운영업",
         "orientation": "v",
         "showlegend": true,
         "type": "funnel",
         "x": [
          "서귀포시",
          "제주시"
         ],
         "xaxis": "x",
         "y": [
          168063,
          304419
         ],
         "yaxis": "y"
        },
        {
         "hovertemplate": "<b>%{hovertext}</b><br><br>업종명=체인화 편의점<br>시도명=%{x}<br>이용금액=%{y}<extra></extra>",
         "hovertext": [
          "체인화 편의점",
          "체인화 편의점"
         ],
         "legendgroup": "체인화 편의점",
         "marker": {
          "color": "#EF553B"
         },
         "name": "체인화 편의점",
         "orientation": "v",
         "showlegend": true,
         "type": "funnel",
         "x": [
          "서귀포시",
          "제주시"
         ],
         "xaxis": "x",
         "y": [
          115121,
          172289
         ],
         "yaxis": "y"
        },
        {
         "hovertemplate": "<b>%{hovertext}</b><br><br>업종명=택시 운송업<br>시도명=%{x}<br>이용금액=%{y}<extra></extra>",
         "hovertext": [
          "택시 운송업",
          "택시 운송업"
         ],
         "legendgroup": "택시 운송업",
         "marker": {
          "color": "#00cc96"
         },
         "name": "택시 운송업",
         "orientation": "v",
         "showlegend": true,
         "type": "funnel",
         "x": [
          "서귀포시",
          "제주시"
         ],
         "xaxis": "x",
         "y": [
          1,
          10
         ],
         "yaxis": "y"
        },
        {
         "hovertemplate": "<b>%{hovertext}</b><br><br>업종명=피자, 햄버거, 샌드위치 및 유사 음식점업<br>시도명=%{x}<br>이용금액=%{y}<extra></extra>",
         "hovertext": [
          "피자, 햄버거, 샌드위치 및 유사 음식점업",
          "피자, 햄버거, 샌드위치 및 유사 음식점업"
         ],
         "legendgroup": "피자, 햄버거, 샌드위치 및 유사 음식점업",
         "marker": {
          "color": "#ab63fa"
         },
         "name": "피자, 햄버거, 샌드위치 및 유사 음식점업",
         "orientation": "v",
         "showlegend": true,
         "type": "funnel",
         "x": [
          "서귀포시",
          "제주시"
         ],
         "xaxis": "x",
         "y": [
          22737,
          32614
         ],
         "yaxis": "y"
        },
        {
         "hovertemplate": "<b>%{hovertext}</b><br><br>업종명=한식 음식점업<br>시도명=%{x}<br>이용금액=%{y}<extra></extra>",
         "hovertext": [
          "한식 음식점업",
          "한식 음식점업"
         ],
         "legendgroup": "한식 음식점업",
         "marker": {
          "color": "#FFA15A"
         },
         "name": "한식 음식점업",
         "orientation": "v",
         "showlegend": true,
         "type": "funnel",
         "x": [
          "서귀포시",
          "제주시"
         ],
         "xaxis": "x",
         "y": [
          459466,
          754073
         ],
         "yaxis": "y"
        },
        {
         "hovertemplate": "<b>%{hovertext}</b><br><br>업종명=호텔업<br>시도명=%{x}<br>이용금액=%{y}<extra></extra>",
         "hovertext": [
          "호텔업",
          "호텔업"
         ],
         "legendgroup": "호텔업",
         "marker": {
          "color": "#19d3f3"
         },
         "name": "호텔업",
         "orientation": "v",
         "showlegend": true,
         "type": "funnel",
         "x": [
          "서귀포시",
          "제주시"
         ],
         "xaxis": "x",
         "y": [
          79246,
          71223
         ],
         "yaxis": "y"
        },
        {
         "hovertemplate": "<b>%{hovertext}</b><br><br>업종명=화장품 및 방향제 소매업<br>시도명=%{x}<br>이용금액=%{y}<extra></extra>",
         "hovertext": [
          "화장품 및 방향제 소매업",
          "화장품 및 방향제 소매업"
         ],
         "legendgroup": "화장품 및 방향제 소매업",
         "marker": {
          "color": "#FF6692"
         },
         "name": "화장품 및 방향제 소매업",
         "orientation": "v",
         "showlegend": true,
         "type": "funnel",
         "x": [
          "서귀포시",
          "제주시"
         ],
         "xaxis": "x",
         "y": [
          16787,
          24373
         ],
         "yaxis": "y"
        },
        {
         "hovertemplate": "<b>%{hovertext}</b><br><br>업종명=휴양콘도 운영업<br>시도명=%{x}<br>이용금액=%{y}<extra></extra>",
         "hovertext": [
          "휴양콘도 운영업",
          "휴양콘도 운영업"
         ],
         "legendgroup": "휴양콘도 운영업",
         "marker": {
          "color": "#B6E880"
         },
         "name": "휴양콘도 운영업",
         "orientation": "v",
         "showlegend": true,
         "type": "funnel",
         "x": [
          "서귀포시",
          "제주시"
         ],
         "xaxis": "x",
         "y": [
          42933,
          18893
         ],
         "yaxis": "y"
        },
        {
         "hovertemplate": "<b>%{hovertext}</b><br><br>업종명=버스 운송업<br>시도명=%{x}<br>이용금액=%{y}<extra></extra>",
         "hovertext": [
          "버스 운송업"
         ],
         "legendgroup": "버스 운송업",
         "marker": {
          "color": "#FF97FF"
         },
         "name": "버스 운송업",
         "orientation": "v",
         "showlegend": true,
         "type": "funnel",
         "x": [
          "제주시"
         ],
         "xaxis": "x",
         "y": [
          55
         ],
         "yaxis": "y"
        }
       ],
       "layout": {
        "height": 750,
        "legend": {
         "title": {
          "text": "업종명"
         },
         "tracegroupgap": 0
        },
        "margin": {
         "t": 60
        },
        "template": {
         "data": {
          "bar": [
           {
            "error_x": {
             "color": "#2a3f5f"
            },
            "error_y": {
             "color": "#2a3f5f"
            },
            "marker": {
             "line": {
              "color": "#E5ECF6",
              "width": 0.5
             },
             "pattern": {
              "fillmode": "overlay",
              "size": 10,
              "solidity": 0.2
             }
            },
            "type": "bar"
           }
          ],
          "barpolar": [
           {
            "marker": {
             "line": {
              "color": "#E5ECF6",
              "width": 0.5
             },
             "pattern": {
              "fillmode": "overlay",
              "size": 10,
              "solidity": 0.2
             }
            },
            "type": "barpolar"
           }
          ],
          "carpet": [
           {
            "aaxis": {
             "endlinecolor": "#2a3f5f",
             "gridcolor": "white",
             "linecolor": "white",
             "minorgridcolor": "white",
             "startlinecolor": "#2a3f5f"
            },
            "baxis": {
             "endlinecolor": "#2a3f5f",
             "gridcolor": "white",
             "linecolor": "white",
             "minorgridcolor": "white",
             "startlinecolor": "#2a3f5f"
            },
            "type": "carpet"
           }
          ],
          "choropleth": [
           {
            "colorbar": {
             "outlinewidth": 0,
             "ticks": ""
            },
            "type": "choropleth"
           }
          ],
          "contour": [
           {
            "colorbar": {
             "outlinewidth": 0,
             "ticks": ""
            },
            "colorscale": [
             [
              0,
              "#0d0887"
             ],
             [
              0.1111111111111111,
              "#46039f"
             ],
             [
              0.2222222222222222,
              "#7201a8"
             ],
             [
              0.3333333333333333,
              "#9c179e"
             ],
             [
              0.4444444444444444,
              "#bd3786"
             ],
             [
              0.5555555555555556,
              "#d8576b"
             ],
             [
              0.6666666666666666,
              "#ed7953"
             ],
             [
              0.7777777777777778,
              "#fb9f3a"
             ],
             [
              0.8888888888888888,
              "#fdca26"
             ],
             [
              1,
              "#f0f921"
             ]
            ],
            "type": "contour"
           }
          ],
          "contourcarpet": [
           {
            "colorbar": {
             "outlinewidth": 0,
             "ticks": ""
            },
            "type": "contourcarpet"
           }
          ],
          "heatmap": [
           {
            "colorbar": {
             "outlinewidth": 0,
             "ticks": ""
            },
            "colorscale": [
             [
              0,
              "#0d0887"
             ],
             [
              0.1111111111111111,
              "#46039f"
             ],
             [
              0.2222222222222222,
              "#7201a8"
             ],
             [
              0.3333333333333333,
              "#9c179e"
             ],
             [
              0.4444444444444444,
              "#bd3786"
             ],
             [
              0.5555555555555556,
              "#d8576b"
             ],
             [
              0.6666666666666666,
              "#ed7953"
             ],
             [
              0.7777777777777778,
              "#fb9f3a"
             ],
             [
              0.8888888888888888,
              "#fdca26"
             ],
             [
              1,
              "#f0f921"
             ]
            ],
            "type": "heatmap"
           }
          ],
          "heatmapgl": [
           {
            "colorbar": {
             "outlinewidth": 0,
             "ticks": ""
            },
            "colorscale": [
             [
              0,
              "#0d0887"
             ],
             [
              0.1111111111111111,
              "#46039f"
             ],
             [
              0.2222222222222222,
              "#7201a8"
             ],
             [
              0.3333333333333333,
              "#9c179e"
             ],
             [
              0.4444444444444444,
              "#bd3786"
             ],
             [
              0.5555555555555556,
              "#d8576b"
             ],
             [
              0.6666666666666666,
              "#ed7953"
             ],
             [
              0.7777777777777778,
              "#fb9f3a"
             ],
             [
              0.8888888888888888,
              "#fdca26"
             ],
             [
              1,
              "#f0f921"
             ]
            ],
            "type": "heatmapgl"
           }
          ],
          "histogram": [
           {
            "marker": {
             "pattern": {
              "fillmode": "overlay",
              "size": 10,
              "solidity": 0.2
             }
            },
            "type": "histogram"
           }
          ],
          "histogram2d": [
           {
            "colorbar": {
             "outlinewidth": 0,
             "ticks": ""
            },
            "colorscale": [
             [
              0,
              "#0d0887"
             ],
             [
              0.1111111111111111,
              "#46039f"
             ],
             [
              0.2222222222222222,
              "#7201a8"
             ],
             [
              0.3333333333333333,
              "#9c179e"
             ],
             [
              0.4444444444444444,
              "#bd3786"
             ],
             [
              0.5555555555555556,
              "#d8576b"
             ],
             [
              0.6666666666666666,
              "#ed7953"
             ],
             [
              0.7777777777777778,
              "#fb9f3a"
             ],
             [
              0.8888888888888888,
              "#fdca26"
             ],
             [
              1,
              "#f0f921"
             ]
            ],
            "type": "histogram2d"
           }
          ],
          "histogram2dcontour": [
           {
            "colorbar": {
             "outlinewidth": 0,
             "ticks": ""
            },
            "colorscale": [
             [
              0,
              "#0d0887"
             ],
             [
              0.1111111111111111,
              "#46039f"
             ],
             [
              0.2222222222222222,
              "#7201a8"
             ],
             [
              0.3333333333333333,
              "#9c179e"
             ],
             [
              0.4444444444444444,
              "#bd3786"
             ],
             [
              0.5555555555555556,
              "#d8576b"
             ],
             [
              0.6666666666666666,
              "#ed7953"
             ],
             [
              0.7777777777777778,
              "#fb9f3a"
             ],
             [
              0.8888888888888888,
              "#fdca26"
             ],
             [
              1,
              "#f0f921"
             ]
            ],
            "type": "histogram2dcontour"
           }
          ],
          "mesh3d": [
           {
            "colorbar": {
             "outlinewidth": 0,
             "ticks": ""
            },
            "type": "mesh3d"
           }
          ],
          "parcoords": [
           {
            "line": {
             "colorbar": {
              "outlinewidth": 0,
              "ticks": ""
             }
            },
            "type": "parcoords"
           }
          ],
          "pie": [
           {
            "automargin": true,
            "type": "pie"
           }
          ],
          "scatter": [
           {
            "fillpattern": {
             "fillmode": "overlay",
             "size": 10,
             "solidity": 0.2
            },
            "type": "scatter"
           }
          ],
          "scatter3d": [
           {
            "line": {
             "colorbar": {
              "outlinewidth": 0,
              "ticks": ""
             }
            },
            "marker": {
             "colorbar": {
              "outlinewidth": 0,
              "ticks": ""
             }
            },
            "type": "scatter3d"
           }
          ],
          "scattercarpet": [
           {
            "marker": {
             "colorbar": {
              "outlinewidth": 0,
              "ticks": ""
             }
            },
            "type": "scattercarpet"
           }
          ],
          "scattergeo": [
           {
            "marker": {
             "colorbar": {
              "outlinewidth": 0,
              "ticks": ""
             }
            },
            "type": "scattergeo"
           }
          ],
          "scattergl": [
           {
            "marker": {
             "colorbar": {
              "outlinewidth": 0,
              "ticks": ""
             }
            },
            "type": "scattergl"
           }
          ],
          "scattermapbox": [
           {
            "marker": {
             "colorbar": {
              "outlinewidth": 0,
              "ticks": ""
             }
            },
            "type": "scattermapbox"
           }
          ],
          "scatterpolar": [
           {
            "marker": {
             "colorbar": {
              "outlinewidth": 0,
              "ticks": ""
             }
            },
            "type": "scatterpolar"
           }
          ],
          "scatterpolargl": [
           {
            "marker": {
             "colorbar": {
              "outlinewidth": 0,
              "ticks": ""
             }
            },
            "type": "scatterpolargl"
           }
          ],
          "scatterternary": [
           {
            "marker": {
             "colorbar": {
              "outlinewidth": 0,
              "ticks": ""
             }
            },
            "type": "scatterternary"
           }
          ],
          "surface": [
           {
            "colorbar": {
             "outlinewidth": 0,
             "ticks": ""
            },
            "colorscale": [
             [
              0,
              "#0d0887"
             ],
             [
              0.1111111111111111,
              "#46039f"
             ],
             [
              0.2222222222222222,
              "#7201a8"
             ],
             [
              0.3333333333333333,
              "#9c179e"
             ],
             [
              0.4444444444444444,
              "#bd3786"
             ],
             [
              0.5555555555555556,
              "#d8576b"
             ],
             [
              0.6666666666666666,
              "#ed7953"
             ],
             [
              0.7777777777777778,
              "#fb9f3a"
             ],
             [
              0.8888888888888888,
              "#fdca26"
             ],
             [
              1,
              "#f0f921"
             ]
            ],
            "type": "surface"
           }
          ],
          "table": [
           {
            "cells": {
             "fill": {
              "color": "#EBF0F8"
             },
             "line": {
              "color": "white"
             }
            },
            "header": {
             "fill": {
              "color": "#C8D4E3"
             },
             "line": {
              "color": "white"
             }
            },
            "type": "table"
           }
          ]
         },
         "layout": {
          "annotationdefaults": {
           "arrowcolor": "#2a3f5f",
           "arrowhead": 0,
           "arrowwidth": 1
          },
          "autotypenumbers": "strict",
          "coloraxis": {
           "colorbar": {
            "outlinewidth": 0,
            "ticks": ""
           }
          },
          "colorscale": {
           "diverging": [
            [
             0,
             "#8e0152"
            ],
            [
             0.1,
             "#c51b7d"
            ],
            [
             0.2,
             "#de77ae"
            ],
            [
             0.3,
             "#f1b6da"
            ],
            [
             0.4,
             "#fde0ef"
            ],
            [
             0.5,
             "#f7f7f7"
            ],
            [
             0.6,
             "#e6f5d0"
            ],
            [
             0.7,
             "#b8e186"
            ],
            [
             0.8,
             "#7fbc41"
            ],
            [
             0.9,
             "#4d9221"
            ],
            [
             1,
             "#276419"
            ]
           ],
           "sequential": [
            [
             0,
             "#0d0887"
            ],
            [
             0.1111111111111111,
             "#46039f"
            ],
            [
             0.2222222222222222,
             "#7201a8"
            ],
            [
             0.3333333333333333,
             "#9c179e"
            ],
            [
             0.4444444444444444,
             "#bd3786"
            ],
            [
             0.5555555555555556,
             "#d8576b"
            ],
            [
             0.6666666666666666,
             "#ed7953"
            ],
            [
             0.7777777777777778,
             "#fb9f3a"
            ],
            [
             0.8888888888888888,
             "#fdca26"
            ],
            [
             1,
             "#f0f921"
            ]
           ],
           "sequentialminus": [
            [
             0,
             "#0d0887"
            ],
            [
             0.1111111111111111,
             "#46039f"
            ],
            [
             0.2222222222222222,
             "#7201a8"
            ],
            [
             0.3333333333333333,
             "#9c179e"
            ],
            [
             0.4444444444444444,
             "#bd3786"
            ],
            [
             0.5555555555555556,
             "#d8576b"
            ],
            [
             0.6666666666666666,
             "#ed7953"
            ],
            [
             0.7777777777777778,
             "#fb9f3a"
            ],
            [
             0.8888888888888888,
             "#fdca26"
            ],
            [
             1,
             "#f0f921"
            ]
           ]
          },
          "colorway": [
           "#636efa",
           "#EF553B",
           "#00cc96",
           "#ab63fa",
           "#FFA15A",
           "#19d3f3",
           "#FF6692",
           "#B6E880",
           "#FF97FF",
           "#FECB52"
          ],
          "font": {
           "color": "#2a3f5f"
          },
          "geo": {
           "bgcolor": "white",
           "lakecolor": "white",
           "landcolor": "#E5ECF6",
           "showlakes": true,
           "showland": true,
           "subunitcolor": "white"
          },
          "hoverlabel": {
           "align": "left"
          },
          "hovermode": "closest",
          "mapbox": {
           "style": "light"
          },
          "paper_bgcolor": "white",
          "plot_bgcolor": "#E5ECF6",
          "polar": {
           "angularaxis": {
            "gridcolor": "white",
            "linecolor": "white",
            "ticks": ""
           },
           "bgcolor": "#E5ECF6",
           "radialaxis": {
            "gridcolor": "white",
            "linecolor": "white",
            "ticks": ""
           }
          },
          "scene": {
           "xaxis": {
            "backgroundcolor": "#E5ECF6",
            "gridcolor": "white",
            "gridwidth": 2,
            "linecolor": "white",
            "showbackground": true,
            "ticks": "",
            "zerolinecolor": "white"
           },
           "yaxis": {
            "backgroundcolor": "#E5ECF6",
            "gridcolor": "white",
            "gridwidth": 2,
            "linecolor": "white",
            "showbackground": true,
            "ticks": "",
            "zerolinecolor": "white"
           },
           "zaxis": {
            "backgroundcolor": "#E5ECF6",
            "gridcolor": "white",
            "gridwidth": 2,
            "linecolor": "white",
            "showbackground": true,
            "ticks": "",
            "zerolinecolor": "white"
           }
          },
          "shapedefaults": {
           "line": {
            "color": "#2a3f5f"
           }
          },
          "ternary": {
           "aaxis": {
            "gridcolor": "white",
            "linecolor": "white",
            "ticks": ""
           },
           "baxis": {
            "gridcolor": "white",
            "linecolor": "white",
            "ticks": ""
           },
           "bgcolor": "#E5ECF6",
           "caxis": {
            "gridcolor": "white",
            "linecolor": "white",
            "ticks": ""
           }
          },
          "title": {
           "x": 0.05
          },
          "xaxis": {
           "automargin": true,
           "gridcolor": "white",
           "linecolor": "white",
           "ticks": "",
           "title": {
            "standoff": 15
           },
           "zerolinecolor": "white",
           "zerolinewidth": 2
          },
          "yaxis": {
           "automargin": true,
           "gridcolor": "white",
           "linecolor": "white",
           "ticks": "",
           "title": {
            "standoff": 15
           },
           "zerolinecolor": "white",
           "zerolinewidth": 2
          }
         }
        },
        "title": {
         "font": {
          "color": "#000000",
          "family": "Malgun Gothic",
          "size": 22
         },
         "text": "<b>제주 업종별 누적 매출액</b><br><sup>( 기간 : 2018년 ~ 2020년 4월까지 / 금액단위 : (백만원)</sup>",
         "x": 0.5
        },
        "width": 750,
        "xaxis": {
         "anchor": "y",
         "domain": [
          0,
          1
         ],
         "title": {
          "text": "시도명"
         }
        },
        "yaxis": {
         "anchor": "x",
         "domain": [
          0,
          1
         ],
         "title": {
          "text": "이용금액"
         }
        }
       }
      },
      "text/html": [
       "<div>                            <div id=\"96b69815-f16b-41ef-a5ec-37931aed9dc6\" class=\"plotly-graph-div\" style=\"height:750px; width:750px;\"></div>            <script type=\"text/javascript\">                require([\"plotly\"], function(Plotly) {                    window.PLOTLYENV=window.PLOTLYENV || {};                                    if (document.getElementById(\"96b69815-f16b-41ef-a5ec-37931aed9dc6\")) {                    Plotly.newPlot(                        \"96b69815-f16b-41ef-a5ec-37931aed9dc6\",                        [{\"hovertemplate\":\"<b>%{hovertext}</b><br><br>\\uc5c5\\uc885\\uba85=\\uac74\\uac15\\ubcf4\\uc870\\uc2dd\\ud488 \\uc18c\\ub9e4\\uc5c5<br>\\uc2dc\\ub3c4\\uba85=%{x}<br>\\uc774\\uc6a9\\uae08\\uc561=%{y}<extra></extra>\",\"hovertext\":[\"\\uac74\\uac15\\ubcf4\\uc870\\uc2dd\\ud488 \\uc18c\\ub9e4\\uc5c5\",\"\\uac74\\uac15\\ubcf4\\uc870\\uc2dd\\ud488 \\uc18c\\ub9e4\\uc5c5\"],\"legendgroup\":\"\\uac74\\uac15\\ubcf4\\uc870\\uc2dd\\ud488 \\uc18c\\ub9e4\\uc5c5\",\"marker\":{\"color\":\"#636efa\"},\"name\":\"\\uac74\\uac15\\ubcf4\\uc870\\uc2dd\\ud488 \\uc18c\\ub9e4\\uc5c5\",\"orientation\":\"v\",\"showlegend\":true,\"x\":[\"\\uc11c\\uadc0\\ud3ec\\uc2dc\",\"\\uc81c\\uc8fc\\uc2dc\"],\"xaxis\":\"x\",\"y\":[4464,22623],\"yaxis\":\"y\",\"type\":\"funnel\"},{\"hovertemplate\":\"<b>%{hovertext}</b><br><br>\\uc5c5\\uc885\\uba85=\\uace8\\ud504\\uc7a5 \\uc6b4\\uc601\\uc5c5<br>\\uc2dc\\ub3c4\\uba85=%{x}<br>\\uc774\\uc6a9\\uae08\\uc561=%{y}<extra></extra>\",\"hovertext\":[\"\\uace8\\ud504\\uc7a5 \\uc6b4\\uc601\\uc5c5\",\"\\uace8\\ud504\\uc7a5 \\uc6b4\\uc601\\uc5c5\"],\"legendgroup\":\"\\uace8\\ud504\\uc7a5 \\uc6b4\\uc601\\uc5c5\",\"marker\":{\"color\":\"#EF553B\"},\"name\":\"\\uace8\\ud504\\uc7a5 \\uc6b4\\uc601\\uc5c5\",\"orientation\":\"v\",\"showlegend\":true,\"x\":[\"\\uc11c\\uadc0\\ud3ec\\uc2dc\",\"\\uc81c\\uc8fc\\uc2dc\"],\"xaxis\":\"x\",\"y\":[57834,73496],\"yaxis\":\"y\",\"type\":\"funnel\"},{\"hovertemplate\":\"<b>%{hovertext}</b><br><br>\\uc5c5\\uc885\\uba85=\\uacfc\\uc2e4 \\ubc0f \\ucc44\\uc18c \\uc18c\\ub9e4\\uc5c5<br>\\uc2dc\\ub3c4\\uba85=%{x}<br>\\uc774\\uc6a9\\uae08\\uc561=%{y}<extra></extra>\",\"hovertext\":[\"\\uacfc\\uc2e4 \\ubc0f \\ucc44\\uc18c \\uc18c\\ub9e4\\uc5c5\",\"\\uacfc\\uc2e4 \\ubc0f \\ucc44\\uc18c \\uc18c\\ub9e4\\uc5c5\"],\"legendgroup\":\"\\uacfc\\uc2e4 \\ubc0f \\ucc44\\uc18c \\uc18c\\ub9e4\\uc5c5\",\"marker\":{\"color\":\"#00cc96\"},\"name\":\"\\uacfc\\uc2e4 \\ubc0f \\ucc44\\uc18c \\uc18c\\ub9e4\\uc5c5\",\"orientation\":\"v\",\"showlegend\":true,\"x\":[\"\\uc11c\\uadc0\\ud3ec\\uc2dc\",\"\\uc81c\\uc8fc\\uc2dc\"],\"xaxis\":\"x\",\"y\":[63666,55293],\"yaxis\":\"y\",\"type\":\"funnel\"},{\"hovertemplate\":\"<b>%{hovertext}</b><br><br>\\uc5c5\\uc885\\uba85=\\uad00\\uad11 \\ubbfc\\uc608\\ud488 \\ubc0f \\uc120\\ubb3c\\uc6a9\\ud488 \\uc18c\\ub9e4\\uc5c5<br>\\uc2dc\\ub3c4\\uba85=%{x}<br>\\uc774\\uc6a9\\uae08\\uc561=%{y}<extra></extra>\",\"hovertext\":[\"\\uad00\\uad11 \\ubbfc\\uc608\\ud488 \\ubc0f \\uc120\\ubb3c\\uc6a9\\ud488 \\uc18c\\ub9e4\\uc5c5\",\"\\uad00\\uad11 \\ubbfc\\uc608\\ud488 \\ubc0f \\uc120\\ubb3c\\uc6a9\\ud488 \\uc18c\\ub9e4\\uc5c5\"],\"legendgroup\":\"\\uad00\\uad11 \\ubbfc\\uc608\\ud488 \\ubc0f \\uc120\\ubb3c\\uc6a9\\ud488 \\uc18c\\ub9e4\\uc5c5\",\"marker\":{\"color\":\"#ab63fa\"},\"name\":\"\\uad00\\uad11 \\ubbfc\\uc608\\ud488 \\ubc0f \\uc120\\ubb3c\\uc6a9\\ud488 \\uc18c\\ub9e4\\uc5c5\",\"orientation\":\"v\",\"showlegend\":true,\"x\":[\"\\uc11c\\uadc0\\ud3ec\\uc2dc\",\"\\uc81c\\uc8fc\\uc2dc\"],\"xaxis\":\"x\",\"y\":[10810,19180],\"yaxis\":\"y\",\"type\":\"funnel\"},{\"hovertemplate\":\"<b>%{hovertext}</b><br><br>\\uc5c5\\uc885\\uba85=\\uadf8\\uc678 \\uae30\\ud0c0 \\ubd84\\ub958\\uc548\\ub41c \\uc624\\ub77d\\uad00\\ub828 \\uc11c\\ube44\\uc2a4\\uc5c5<br>\\uc2dc\\ub3c4\\uba85=%{x}<br>\\uc774\\uc6a9\\uae08\\uc561=%{y}<extra></extra>\",\"hovertext\":[\"\\uadf8\\uc678 \\uae30\\ud0c0 \\ubd84\\ub958\\uc548\\ub41c \\uc624\\ub77d\\uad00\\ub828 \\uc11c\\ube44\\uc2a4\\uc5c5\",\"\\uadf8\\uc678 \\uae30\\ud0c0 \\ubd84\\ub958\\uc548\\ub41c \\uc624\\ub77d\\uad00\\ub828 \\uc11c\\ube44\\uc2a4\\uc5c5\"],\"legendgroup\":\"\\uadf8\\uc678 \\uae30\\ud0c0 \\ubd84\\ub958\\uc548\\ub41c \\uc624\\ub77d\\uad00\\ub828 \\uc11c\\ube44\\uc2a4\\uc5c5\",\"marker\":{\"color\":\"#FFA15A\"},\"name\":\"\\uadf8\\uc678 \\uae30\\ud0c0 \\ubd84\\ub958\\uc548\\ub41c \\uc624\\ub77d\\uad00\\ub828 \\uc11c\\ube44\\uc2a4\\uc5c5\",\"orientation\":\"v\",\"showlegend\":true,\"x\":[\"\\uc11c\\uadc0\\ud3ec\\uc2dc\",\"\\uc81c\\uc8fc\\uc2dc\"],\"xaxis\":\"x\",\"y\":[83,102],\"yaxis\":\"y\",\"type\":\"funnel\"},{\"hovertemplate\":\"<b>%{hovertext}</b><br><br>\\uc5c5\\uc885\\uba85=\\uadf8\\uc678 \\uae30\\ud0c0 \\uc2a4\\ud3ec\\uce20\\uc2dc\\uc124 \\uc6b4\\uc601\\uc5c5<br>\\uc2dc\\ub3c4\\uba85=%{x}<br>\\uc774\\uc6a9\\uae08\\uc561=%{y}<extra></extra>\",\"hovertext\":[\"\\uadf8\\uc678 \\uae30\\ud0c0 \\uc2a4\\ud3ec\\uce20\\uc2dc\\uc124 \\uc6b4\\uc601\\uc5c5\",\"\\uadf8\\uc678 \\uae30\\ud0c0 \\uc2a4\\ud3ec\\uce20\\uc2dc\\uc124 \\uc6b4\\uc601\\uc5c5\"],\"legendgroup\":\"\\uadf8\\uc678 \\uae30\\ud0c0 \\uc2a4\\ud3ec\\uce20\\uc2dc\\uc124 \\uc6b4\\uc601\\uc5c5\",\"marker\":{\"color\":\"#19d3f3\"},\"name\":\"\\uadf8\\uc678 \\uae30\\ud0c0 \\uc2a4\\ud3ec\\uce20\\uc2dc\\uc124 \\uc6b4\\uc601\\uc5c5\",\"orientation\":\"v\",\"showlegend\":true,\"x\":[\"\\uc11c\\uadc0\\ud3ec\\uc2dc\",\"\\uc81c\\uc8fc\\uc2dc\"],\"xaxis\":\"x\",\"y\":[981,898],\"yaxis\":\"y\",\"type\":\"funnel\"},{\"hovertemplate\":\"<b>%{hovertext}</b><br><br>\\uc5c5\\uc885\\uba85=\\uadf8\\uc678 \\uae30\\ud0c0 \\uc885\\ud569 \\uc18c\\ub9e4\\uc5c5<br>\\uc2dc\\ub3c4\\uba85=%{x}<br>\\uc774\\uc6a9\\uae08\\uc561=%{y}<extra></extra>\",\"hovertext\":[\"\\uadf8\\uc678 \\uae30\\ud0c0 \\uc885\\ud569 \\uc18c\\ub9e4\\uc5c5\",\"\\uadf8\\uc678 \\uae30\\ud0c0 \\uc885\\ud569 \\uc18c\\ub9e4\\uc5c5\"],\"legendgroup\":\"\\uadf8\\uc678 \\uae30\\ud0c0 \\uc885\\ud569 \\uc18c\\ub9e4\\uc5c5\",\"marker\":{\"color\":\"#FF6692\"},\"name\":\"\\uadf8\\uc678 \\uae30\\ud0c0 \\uc885\\ud569 \\uc18c\\ub9e4\\uc5c5\",\"orientation\":\"v\",\"showlegend\":true,\"x\":[\"\\uc11c\\uadc0\\ud3ec\\uc2dc\",\"\\uc81c\\uc8fc\\uc2dc\"],\"xaxis\":\"x\",\"y\":[3284,113819],\"yaxis\":\"y\",\"type\":\"funnel\"},{\"hovertemplate\":\"<b>%{hovertext}</b><br><br>\\uc5c5\\uc885\\uba85=\\uae30\\ud0c0 \\ub300\\ud615 \\uc885\\ud569 \\uc18c\\ub9e4\\uc5c5<br>\\uc2dc\\ub3c4\\uba85=%{x}<br>\\uc774\\uc6a9\\uae08\\uc561=%{y}<extra></extra>\",\"hovertext\":[\"\\uae30\\ud0c0 \\ub300\\ud615 \\uc885\\ud569 \\uc18c\\ub9e4\\uc5c5\",\"\\uae30\\ud0c0 \\ub300\\ud615 \\uc885\\ud569 \\uc18c\\ub9e4\\uc5c5\"],\"legendgroup\":\"\\uae30\\ud0c0 \\ub300\\ud615 \\uc885\\ud569 \\uc18c\\ub9e4\\uc5c5\",\"marker\":{\"color\":\"#B6E880\"},\"name\":\"\\uae30\\ud0c0 \\ub300\\ud615 \\uc885\\ud569 \\uc18c\\ub9e4\\uc5c5\",\"orientation\":\"v\",\"showlegend\":true,\"x\":[\"\\uc11c\\uadc0\\ud3ec\\uc2dc\",\"\\uc81c\\uc8fc\\uc2dc\"],\"xaxis\":\"x\",\"y\":[76690,140045],\"yaxis\":\"y\",\"type\":\"funnel\"},{\"hovertemplate\":\"<b>%{hovertext}</b><br><br>\\uc5c5\\uc885\\uba85=\\uae30\\ud0c0 \\uc218\\uc0c1\\uc624\\ub77d \\uc11c\\ube44\\uc2a4\\uc5c5<br>\\uc2dc\\ub3c4\\uba85=%{x}<br>\\uc774\\uc6a9\\uae08\\uc561=%{y}<extra></extra>\",\"hovertext\":[\"\\uae30\\ud0c0 \\uc218\\uc0c1\\uc624\\ub77d \\uc11c\\ube44\\uc2a4\\uc5c5\",\"\\uae30\\ud0c0 \\uc218\\uc0c1\\uc624\\ub77d \\uc11c\\ube44\\uc2a4\\uc5c5\"],\"legendgroup\":\"\\uae30\\ud0c0 \\uc218\\uc0c1\\uc624\\ub77d \\uc11c\\ube44\\uc2a4\\uc5c5\",\"marker\":{\"color\":\"#FF97FF\"},\"name\":\"\\uae30\\ud0c0 \\uc218\\uc0c1\\uc624\\ub77d \\uc11c\\ube44\\uc2a4\\uc5c5\",\"orientation\":\"v\",\"showlegend\":true,\"x\":[\"\\uc11c\\uadc0\\ud3ec\\uc2dc\",\"\\uc81c\\uc8fc\\uc2dc\"],\"xaxis\":\"x\",\"y\":[144,251],\"yaxis\":\"y\",\"type\":\"funnel\"},{\"hovertemplate\":\"<b>%{hovertext}</b><br><br>\\uc5c5\\uc885\\uba85=\\uae30\\ud0c0 \\uc678\\uad6d\\uc2dd \\uc74c\\uc2dd\\uc810\\uc5c5<br>\\uc2dc\\ub3c4\\uba85=%{x}<br>\\uc774\\uc6a9\\uae08\\uc561=%{y}<extra></extra>\",\"hovertext\":[\"\\uae30\\ud0c0 \\uc678\\uad6d\\uc2dd \\uc74c\\uc2dd\\uc810\\uc5c5\",\"\\uae30\\ud0c0 \\uc678\\uad6d\\uc2dd \\uc74c\\uc2dd\\uc810\\uc5c5\"],\"legendgroup\":\"\\uae30\\ud0c0 \\uc678\\uad6d\\uc2dd \\uc74c\\uc2dd\\uc810\\uc5c5\",\"marker\":{\"color\":\"#FECB52\"},\"name\":\"\\uae30\\ud0c0 \\uc678\\uad6d\\uc2dd \\uc74c\\uc2dd\\uc810\\uc5c5\",\"orientation\":\"v\",\"showlegend\":true,\"x\":[\"\\uc11c\\uadc0\\ud3ec\\uc2dc\",\"\\uc81c\\uc8fc\\uc2dc\"],\"xaxis\":\"x\",\"y\":[13017,16888],\"yaxis\":\"y\",\"type\":\"funnel\"},{\"hovertemplate\":\"<b>%{hovertext}</b><br><br>\\uc5c5\\uc885\\uba85=\\uae30\\ud0c0 \\uc8fc\\uc810\\uc5c5<br>\\uc2dc\\ub3c4\\uba85=%{x}<br>\\uc774\\uc6a9\\uae08\\uc561=%{y}<extra></extra>\",\"hovertext\":[\"\\uae30\\ud0c0 \\uc8fc\\uc810\\uc5c5\",\"\\uae30\\ud0c0 \\uc8fc\\uc810\\uc5c5\"],\"legendgroup\":\"\\uae30\\ud0c0 \\uc8fc\\uc810\\uc5c5\",\"marker\":{\"color\":\"#636efa\"},\"name\":\"\\uae30\\ud0c0 \\uc8fc\\uc810\\uc5c5\",\"orientation\":\"v\",\"showlegend\":true,\"x\":[\"\\uc11c\\uadc0\\ud3ec\\uc2dc\",\"\\uc81c\\uc8fc\\uc2dc\"],\"xaxis\":\"x\",\"y\":[27733,38198],\"yaxis\":\"y\",\"type\":\"funnel\"},{\"hovertemplate\":\"<b>%{hovertext}</b><br><br>\\uc5c5\\uc885\\uba85=\\uae30\\ud0c0\\uc74c\\uc2dd\\ub8cc\\ud488\\uc704\\uc8fc\\uc885\\ud569\\uc18c\\ub9e4\\uc5c5<br>\\uc2dc\\ub3c4\\uba85=%{x}<br>\\uc774\\uc6a9\\uae08\\uc561=%{y}<extra></extra>\",\"hovertext\":[\"\\uae30\\ud0c0\\uc74c\\uc2dd\\ub8cc\\ud488\\uc704\\uc8fc\\uc885\\ud569\\uc18c\\ub9e4\\uc5c5\",\"\\uae30\\ud0c0\\uc74c\\uc2dd\\ub8cc\\ud488\\uc704\\uc8fc\\uc885\\ud569\\uc18c\\ub9e4\\uc5c5\"],\"legendgroup\":\"\\uae30\\ud0c0\\uc74c\\uc2dd\\ub8cc\\ud488\\uc704\\uc8fc\\uc885\\ud569\\uc18c\\ub9e4\\uc5c5\",\"marker\":{\"color\":\"#EF553B\"},\"name\":\"\\uae30\\ud0c0\\uc74c\\uc2dd\\ub8cc\\ud488\\uc704\\uc8fc\\uc885\\ud569\\uc18c\\ub9e4\\uc5c5\",\"orientation\":\"v\",\"showlegend\":true,\"x\":[\"\\uc11c\\uadc0\\ud3ec\\uc2dc\",\"\\uc81c\\uc8fc\\uc2dc\"],\"xaxis\":\"x\",\"y\":[83014,74581],\"yaxis\":\"y\",\"type\":\"funnel\"},{\"hovertemplate\":\"<b>%{hovertext}</b><br><br>\\uc5c5\\uc885\\uba85=\\ub0b4\\ud56d \\uc5ec\\uac1d \\uc6b4\\uc1a1\\uc5c5<br>\\uc2dc\\ub3c4\\uba85=%{x}<br>\\uc774\\uc6a9\\uae08\\uc561=%{y}<extra></extra>\",\"hovertext\":[\"\\ub0b4\\ud56d \\uc5ec\\uac1d \\uc6b4\\uc1a1\\uc5c5\",\"\\ub0b4\\ud56d \\uc5ec\\uac1d \\uc6b4\\uc1a1\\uc5c5\"],\"legendgroup\":\"\\ub0b4\\ud56d \\uc5ec\\uac1d \\uc6b4\\uc1a1\\uc5c5\",\"marker\":{\"color\":\"#00cc96\"},\"name\":\"\\ub0b4\\ud56d \\uc5ec\\uac1d \\uc6b4\\uc1a1\\uc5c5\",\"orientation\":\"v\",\"showlegend\":true,\"x\":[\"\\uc11c\\uadc0\\ud3ec\\uc2dc\",\"\\uc81c\\uc8fc\\uc2dc\"],\"xaxis\":\"x\",\"y\":[3097,7449],\"yaxis\":\"y\",\"type\":\"funnel\"},{\"hovertemplate\":\"<b>%{hovertext}</b><br><br>\\uc5c5\\uc885\\uba85=\\ub9c8\\uc0ac\\uc9c0\\uc5c5<br>\\uc2dc\\ub3c4\\uba85=%{x}<br>\\uc774\\uc6a9\\uae08\\uc561=%{y}<extra></extra>\",\"hovertext\":[\"\\ub9c8\\uc0ac\\uc9c0\\uc5c5\",\"\\ub9c8\\uc0ac\\uc9c0\\uc5c5\"],\"legendgroup\":\"\\ub9c8\\uc0ac\\uc9c0\\uc5c5\",\"marker\":{\"color\":\"#ab63fa\"},\"name\":\"\\ub9c8\\uc0ac\\uc9c0\\uc5c5\",\"orientation\":\"v\",\"showlegend\":true,\"x\":[\"\\uc11c\\uadc0\\ud3ec\\uc2dc\",\"\\uc81c\\uc8fc\\uc2dc\"],\"xaxis\":\"x\",\"y\":[291,425],\"yaxis\":\"y\",\"type\":\"funnel\"},{\"hovertemplate\":\"<b>%{hovertext}</b><br><br>\\uc5c5\\uc885\\uba85=\\ube44\\uc54c\\ucf5c \\uc74c\\ub8cc\\uc810\\uc5c5<br>\\uc2dc\\ub3c4\\uba85=%{x}<br>\\uc774\\uc6a9\\uae08\\uc561=%{y}<extra></extra>\",\"hovertext\":[\"\\ube44\\uc54c\\ucf5c \\uc74c\\ub8cc\\uc810\\uc5c5\",\"\\ube44\\uc54c\\ucf5c \\uc74c\\ub8cc\\uc810\\uc5c5\"],\"legendgroup\":\"\\ube44\\uc54c\\ucf5c \\uc74c\\ub8cc\\uc810\\uc5c5\",\"marker\":{\"color\":\"#FFA15A\"},\"name\":\"\\ube44\\uc54c\\ucf5c \\uc74c\\ub8cc\\uc810\\uc5c5\",\"orientation\":\"v\",\"showlegend\":true,\"x\":[\"\\uc11c\\uadc0\\ud3ec\\uc2dc\",\"\\uc81c\\uc8fc\\uc2dc\"],\"xaxis\":\"x\",\"y\":[14065,31360],\"yaxis\":\"y\",\"type\":\"funnel\"},{\"hovertemplate\":\"<b>%{hovertext}</b><br><br>\\uc5c5\\uc885\\uba85=\\ube75 \\ubc0f \\uacfc\\uc790\\ub958 \\uc18c\\ub9e4\\uc5c5<br>\\uc2dc\\ub3c4\\uba85=%{x}<br>\\uc774\\uc6a9\\uae08\\uc561=%{y}<extra></extra>\",\"hovertext\":[\"\\ube75 \\ubc0f \\uacfc\\uc790\\ub958 \\uc18c\\ub9e4\\uc5c5\",\"\\ube75 \\ubc0f \\uacfc\\uc790\\ub958 \\uc18c\\ub9e4\\uc5c5\"],\"legendgroup\":\"\\ube75 \\ubc0f \\uacfc\\uc790\\ub958 \\uc18c\\ub9e4\\uc5c5\",\"marker\":{\"color\":\"#19d3f3\"},\"name\":\"\\ube75 \\ubc0f \\uacfc\\uc790\\ub958 \\uc18c\\ub9e4\\uc5c5\",\"orientation\":\"v\",\"showlegend\":true,\"x\":[\"\\uc11c\\uadc0\\ud3ec\\uc2dc\",\"\\uc81c\\uc8fc\\uc2dc\"],\"xaxis\":\"x\",\"y\":[25260,42896],\"yaxis\":\"y\",\"type\":\"funnel\"},{\"hovertemplate\":\"<b>%{hovertext}</b><br><br>\\uc5c5\\uc885\\uba85=\\uc11c\\uc591\\uc2dd \\uc74c\\uc2dd\\uc810\\uc5c5<br>\\uc2dc\\ub3c4\\uba85=%{x}<br>\\uc774\\uc6a9\\uae08\\uc561=%{y}<extra></extra>\",\"hovertext\":[\"\\uc11c\\uc591\\uc2dd \\uc74c\\uc2dd\\uc810\\uc5c5\",\"\\uc11c\\uc591\\uc2dd \\uc74c\\uc2dd\\uc810\\uc5c5\"],\"legendgroup\":\"\\uc11c\\uc591\\uc2dd \\uc74c\\uc2dd\\uc810\\uc5c5\",\"marker\":{\"color\":\"#FF6692\"},\"name\":\"\\uc11c\\uc591\\uc2dd \\uc74c\\uc2dd\\uc810\\uc5c5\",\"orientation\":\"v\",\"showlegend\":true,\"x\":[\"\\uc11c\\uadc0\\ud3ec\\uc2dc\",\"\\uc81c\\uc8fc\\uc2dc\"],\"xaxis\":\"x\",\"y\":[51558,74298],\"yaxis\":\"y\",\"type\":\"funnel\"},{\"hovertemplate\":\"<b>%{hovertext}</b><br><br>\\uc5c5\\uc885\\uba85=\\uc218\\uc0b0\\ubb3c \\uc18c\\ub9e4\\uc5c5<br>\\uc2dc\\ub3c4\\uba85=%{x}<br>\\uc774\\uc6a9\\uae08\\uc561=%{y}<extra></extra>\",\"hovertext\":[\"\\uc218\\uc0b0\\ubb3c \\uc18c\\ub9e4\\uc5c5\",\"\\uc218\\uc0b0\\ubb3c \\uc18c\\ub9e4\\uc5c5\"],\"legendgroup\":\"\\uc218\\uc0b0\\ubb3c \\uc18c\\ub9e4\\uc5c5\",\"marker\":{\"color\":\"#B6E880\"},\"name\":\"\\uc218\\uc0b0\\ubb3c \\uc18c\\ub9e4\\uc5c5\",\"orientation\":\"v\",\"showlegend\":true,\"x\":[\"\\uc11c\\uadc0\\ud3ec\\uc2dc\",\"\\uc81c\\uc8fc\\uc2dc\"],\"xaxis\":\"x\",\"y\":[47966,50525],\"yaxis\":\"y\",\"type\":\"funnel\"},{\"hovertemplate\":\"<b>%{hovertext}</b><br><br>\\uc5c5\\uc885\\uba85=\\uc288\\ud37c\\ub9c8\\ucf13<br>\\uc2dc\\ub3c4\\uba85=%{x}<br>\\uc774\\uc6a9\\uae08\\uc561=%{y}<extra></extra>\",\"hovertext\":[\"\\uc288\\ud37c\\ub9c8\\ucf13\",\"\\uc288\\ud37c\\ub9c8\\ucf13\"],\"legendgroup\":\"\\uc288\\ud37c\\ub9c8\\ucf13\",\"marker\":{\"color\":\"#FF97FF\"},\"name\":\"\\uc288\\ud37c\\ub9c8\\ucf13\",\"orientation\":\"v\",\"showlegend\":true,\"x\":[\"\\uc11c\\uadc0\\ud3ec\\uc2dc\",\"\\uc81c\\uc8fc\\uc2dc\"],\"xaxis\":\"x\",\"y\":[157839,340059],\"yaxis\":\"y\",\"type\":\"funnel\"},{\"hovertemplate\":\"<b>%{hovertext}</b><br><br>\\uc5c5\\uc885\\uba85=\\uc2a4\\ud3ec\\uce20 \\ubc0f \\ub808\\ud06c\\ub808\\uc774\\uc158 \\uc6a9\\ud488 \\uc784\\ub300\\uc5c5<br>\\uc2dc\\ub3c4\\uba85=%{x}<br>\\uc774\\uc6a9\\uae08\\uc561=%{y}<extra></extra>\",\"hovertext\":[\"\\uc2a4\\ud3ec\\uce20 \\ubc0f \\ub808\\ud06c\\ub808\\uc774\\uc158 \\uc6a9\\ud488 \\uc784\\ub300\\uc5c5\",\"\\uc2a4\\ud3ec\\uce20 \\ubc0f \\ub808\\ud06c\\ub808\\uc774\\uc158 \\uc6a9\\ud488 \\uc784\\ub300\\uc5c5\"],\"legendgroup\":\"\\uc2a4\\ud3ec\\uce20 \\ubc0f \\ub808\\ud06c\\ub808\\uc774\\uc158 \\uc6a9\\ud488 \\uc784\\ub300\\uc5c5\",\"marker\":{\"color\":\"#FECB52\"},\"name\":\"\\uc2a4\\ud3ec\\uce20 \\ubc0f \\ub808\\ud06c\\ub808\\uc774\\uc158 \\uc6a9\\ud488 \\uc784\\ub300\\uc5c5\",\"orientation\":\"v\",\"showlegend\":true,\"x\":[\"\\uc11c\\uadc0\\ud3ec\\uc2dc\",\"\\uc81c\\uc8fc\\uc2dc\"],\"xaxis\":\"x\",\"y\":[61116,82360],\"yaxis\":\"y\",\"type\":\"funnel\"},{\"hovertemplate\":\"<b>%{hovertext}</b><br><br>\\uc5c5\\uc885\\uba85=\\uc5ec\\uad00\\uc5c5<br>\\uc2dc\\ub3c4\\uba85=%{x}<br>\\uc774\\uc6a9\\uae08\\uc561=%{y}<extra></extra>\",\"hovertext\":[\"\\uc5ec\\uad00\\uc5c5\",\"\\uc5ec\\uad00\\uc5c5\"],\"legendgroup\":\"\\uc5ec\\uad00\\uc5c5\",\"marker\":{\"color\":\"#636efa\"},\"name\":\"\\uc5ec\\uad00\\uc5c5\",\"orientation\":\"v\",\"showlegend\":true,\"x\":[\"\\uc11c\\uadc0\\ud3ec\\uc2dc\",\"\\uc81c\\uc8fc\\uc2dc\"],\"xaxis\":\"x\",\"y\":[89911,76166],\"yaxis\":\"y\",\"type\":\"funnel\"},{\"hovertemplate\":\"<b>%{hovertext}</b><br><br>\\uc5c5\\uc885\\uba85=\\uc5ec\\ud589\\uc0ac\\uc5c5<br>\\uc2dc\\ub3c4\\uba85=%{x}<br>\\uc774\\uc6a9\\uae08\\uc561=%{y}<extra></extra>\",\"hovertext\":[\"\\uc5ec\\ud589\\uc0ac\\uc5c5\",\"\\uc5ec\\ud589\\uc0ac\\uc5c5\"],\"legendgroup\":\"\\uc5ec\\ud589\\uc0ac\\uc5c5\",\"marker\":{\"color\":\"#EF553B\"},\"name\":\"\\uc5ec\\ud589\\uc0ac\\uc5c5\",\"orientation\":\"v\",\"showlegend\":true,\"x\":[\"\\uc11c\\uadc0\\ud3ec\\uc2dc\",\"\\uc81c\\uc8fc\\uc2dc\"],\"xaxis\":\"x\",\"y\":[493,18308],\"yaxis\":\"y\",\"type\":\"funnel\"},{\"hovertemplate\":\"<b>%{hovertext}</b><br><br>\\uc5c5\\uc885\\uba85=\\uc695\\ud0d5\\uc5c5<br>\\uc2dc\\ub3c4\\uba85=%{x}<br>\\uc774\\uc6a9\\uae08\\uc561=%{y}<extra></extra>\",\"hovertext\":[\"\\uc695\\ud0d5\\uc5c5\",\"\\uc695\\ud0d5\\uc5c5\"],\"legendgroup\":\"\\uc695\\ud0d5\\uc5c5\",\"marker\":{\"color\":\"#00cc96\"},\"name\":\"\\uc695\\ud0d5\\uc5c5\",\"orientation\":\"v\",\"showlegend\":true,\"x\":[\"\\uc11c\\uadc0\\ud3ec\\uc2dc\",\"\\uc81c\\uc8fc\\uc2dc\"],\"xaxis\":\"x\",\"y\":[2781,6002],\"yaxis\":\"y\",\"type\":\"funnel\"},{\"hovertemplate\":\"<b>%{hovertext}</b><br><br>\\uc5c5\\uc885\\uba85=\\uc721\\ub958 \\uc18c\\ub9e4\\uc5c5<br>\\uc2dc\\ub3c4\\uba85=%{x}<br>\\uc774\\uc6a9\\uae08\\uc561=%{y}<extra></extra>\",\"hovertext\":[\"\\uc721\\ub958 \\uc18c\\ub9e4\\uc5c5\",\"\\uc721\\ub958 \\uc18c\\ub9e4\\uc5c5\"],\"legendgroup\":\"\\uc721\\ub958 \\uc18c\\ub9e4\\uc5c5\",\"marker\":{\"color\":\"#ab63fa\"},\"name\":\"\\uc721\\ub958 \\uc18c\\ub9e4\\uc5c5\",\"orientation\":\"v\",\"showlegend\":true,\"x\":[\"\\uc11c\\uadc0\\ud3ec\\uc2dc\",\"\\uc81c\\uc8fc\\uc2dc\"],\"xaxis\":\"x\",\"y\":[29686,51196],\"yaxis\":\"y\",\"type\":\"funnel\"},{\"hovertemplate\":\"<b>%{hovertext}</b><br><br>\\uc5c5\\uc885\\uba85=\\uc77c\\ubc18\\uc720\\ud765 \\uc8fc\\uc810\\uc5c5<br>\\uc2dc\\ub3c4\\uba85=%{x}<br>\\uc774\\uc6a9\\uae08\\uc561=%{y}<extra></extra>\",\"hovertext\":[\"\\uc77c\\ubc18\\uc720\\ud765 \\uc8fc\\uc810\\uc5c5\",\"\\uc77c\\ubc18\\uc720\\ud765 \\uc8fc\\uc810\\uc5c5\"],\"legendgroup\":\"\\uc77c\\ubc18\\uc720\\ud765 \\uc8fc\\uc810\\uc5c5\",\"marker\":{\"color\":\"#FFA15A\"},\"name\":\"\\uc77c\\ubc18\\uc720\\ud765 \\uc8fc\\uc810\\uc5c5\",\"orientation\":\"v\",\"showlegend\":true,\"x\":[\"\\uc11c\\uadc0\\ud3ec\\uc2dc\",\"\\uc81c\\uc8fc\\uc2dc\"],\"xaxis\":\"x\",\"y\":[80200,76513],\"yaxis\":\"y\",\"type\":\"funnel\"},{\"hovertemplate\":\"<b>%{hovertext}</b><br><br>\\uc5c5\\uc885\\uba85=\\uc77c\\uc2dd \\uc74c\\uc2dd\\uc810\\uc5c5<br>\\uc2dc\\ub3c4\\uba85=%{x}<br>\\uc774\\uc6a9\\uae08\\uc561=%{y}<extra></extra>\",\"hovertext\":[\"\\uc77c\\uc2dd \\uc74c\\uc2dd\\uc810\\uc5c5\",\"\\uc77c\\uc2dd \\uc74c\\uc2dd\\uc810\\uc5c5\"],\"legendgroup\":\"\\uc77c\\uc2dd \\uc74c\\uc2dd\\uc810\\uc5c5\",\"marker\":{\"color\":\"#19d3f3\"},\"name\":\"\\uc77c\\uc2dd \\uc74c\\uc2dd\\uc810\\uc5c5\",\"orientation\":\"v\",\"showlegend\":true,\"x\":[\"\\uc11c\\uadc0\\ud3ec\\uc2dc\",\"\\uc81c\\uc8fc\\uc2dc\"],\"xaxis\":\"x\",\"y\":[74611,64652],\"yaxis\":\"y\",\"type\":\"funnel\"},{\"hovertemplate\":\"<b>%{hovertext}</b><br><br>\\uc5c5\\uc885\\uba85=\\uc790\\ub3d9\\ucc28 \\uc784\\ub300\\uc5c5<br>\\uc2dc\\ub3c4\\uba85=%{x}<br>\\uc774\\uc6a9\\uae08\\uc561=%{y}<extra></extra>\",\"hovertext\":[\"\\uc790\\ub3d9\\ucc28 \\uc784\\ub300\\uc5c5\",\"\\uc790\\ub3d9\\ucc28 \\uc784\\ub300\\uc5c5\"],\"legendgroup\":\"\\uc790\\ub3d9\\ucc28 \\uc784\\ub300\\uc5c5\",\"marker\":{\"color\":\"#FF6692\"},\"name\":\"\\uc790\\ub3d9\\ucc28 \\uc784\\ub300\\uc5c5\",\"orientation\":\"v\",\"showlegend\":true,\"x\":[\"\\uc11c\\uadc0\\ud3ec\\uc2dc\",\"\\uc81c\\uc8fc\\uc2dc\"],\"xaxis\":\"x\",\"y\":[84,42281],\"yaxis\":\"y\",\"type\":\"funnel\"},{\"hovertemplate\":\"<b>%{hovertext}</b><br><br>\\uc5c5\\uc885\\uba85=\\uc804\\uc2dc \\ubc0f \\ud589\\uc0ac \\ub300\\ud589\\uc5c5<br>\\uc2dc\\ub3c4\\uba85=%{x}<br>\\uc774\\uc6a9\\uae08\\uc561=%{y}<extra></extra>\",\"hovertext\":[\"\\uc804\\uc2dc \\ubc0f \\ud589\\uc0ac \\ub300\\ud589\\uc5c5\",\"\\uc804\\uc2dc \\ubc0f \\ud589\\uc0ac \\ub300\\ud589\\uc5c5\"],\"legendgroup\":\"\\uc804\\uc2dc \\ubc0f \\ud589\\uc0ac \\ub300\\ud589\\uc5c5\",\"marker\":{\"color\":\"#B6E880\"},\"name\":\"\\uc804\\uc2dc \\ubc0f \\ud589\\uc0ac \\ub300\\ud589\\uc5c5\",\"orientation\":\"v\",\"showlegend\":true,\"x\":[\"\\uc11c\\uadc0\\ud3ec\\uc2dc\",\"\\uc81c\\uc8fc\\uc2dc\"],\"xaxis\":\"x\",\"y\":[25901,19252],\"yaxis\":\"y\",\"type\":\"funnel\"},{\"hovertemplate\":\"<b>%{hovertext}</b><br><br>\\uc5c5\\uc885\\uba85=\\uc911\\uc2dd \\uc74c\\uc2dd\\uc810\\uc5c5<br>\\uc2dc\\ub3c4\\uba85=%{x}<br>\\uc774\\uc6a9\\uae08\\uc561=%{y}<extra></extra>\",\"hovertext\":[\"\\uc911\\uc2dd \\uc74c\\uc2dd\\uc810\\uc5c5\",\"\\uc911\\uc2dd \\uc74c\\uc2dd\\uc810\\uc5c5\"],\"legendgroup\":\"\\uc911\\uc2dd \\uc74c\\uc2dd\\uc810\\uc5c5\",\"marker\":{\"color\":\"#FF97FF\"},\"name\":\"\\uc911\\uc2dd \\uc74c\\uc2dd\\uc810\\uc5c5\",\"orientation\":\"v\",\"showlegend\":true,\"x\":[\"\\uc11c\\uadc0\\ud3ec\\uc2dc\",\"\\uc81c\\uc8fc\\uc2dc\"],\"xaxis\":\"x\",\"y\":[21109,32338],\"yaxis\":\"y\",\"type\":\"funnel\"},{\"hovertemplate\":\"<b>%{hovertext}</b><br><br>\\uc5c5\\uc885\\uba85=\\ucc28\\ub7c9\\uc6a9 \\uac00\\uc2a4 \\ucda9\\uc804\\uc5c5<br>\\uc2dc\\ub3c4\\uba85=%{x}<br>\\uc774\\uc6a9\\uae08\\uc561=%{y}<extra></extra>\",\"hovertext\":[\"\\ucc28\\ub7c9\\uc6a9 \\uac00\\uc2a4 \\ucda9\\uc804\\uc5c5\",\"\\ucc28\\ub7c9\\uc6a9 \\uac00\\uc2a4 \\ucda9\\uc804\\uc5c5\"],\"legendgroup\":\"\\ucc28\\ub7c9\\uc6a9 \\uac00\\uc2a4 \\ucda9\\uc804\\uc5c5\",\"marker\":{\"color\":\"#FECB52\"},\"name\":\"\\ucc28\\ub7c9\\uc6a9 \\uac00\\uc2a4 \\ucda9\\uc804\\uc5c5\",\"orientation\":\"v\",\"showlegend\":true,\"x\":[\"\\uc11c\\uadc0\\ud3ec\\uc2dc\",\"\\uc81c\\uc8fc\\uc2dc\"],\"xaxis\":\"x\",\"y\":[8897,21013],\"yaxis\":\"y\",\"type\":\"funnel\"},{\"hovertemplate\":\"<b>%{hovertext}</b><br><br>\\uc5c5\\uc885\\uba85=\\ucc28\\ub7c9\\uc6a9 \\uc8fc\\uc720\\uc18c \\uc6b4\\uc601\\uc5c5<br>\\uc2dc\\ub3c4\\uba85=%{x}<br>\\uc774\\uc6a9\\uae08\\uc561=%{y}<extra></extra>\",\"hovertext\":[\"\\ucc28\\ub7c9\\uc6a9 \\uc8fc\\uc720\\uc18c \\uc6b4\\uc601\\uc5c5\",\"\\ucc28\\ub7c9\\uc6a9 \\uc8fc\\uc720\\uc18c \\uc6b4\\uc601\\uc5c5\"],\"legendgroup\":\"\\ucc28\\ub7c9\\uc6a9 \\uc8fc\\uc720\\uc18c \\uc6b4\\uc601\\uc5c5\",\"marker\":{\"color\":\"#636efa\"},\"name\":\"\\ucc28\\ub7c9\\uc6a9 \\uc8fc\\uc720\\uc18c \\uc6b4\\uc601\\uc5c5\",\"orientation\":\"v\",\"showlegend\":true,\"x\":[\"\\uc11c\\uadc0\\ud3ec\\uc2dc\",\"\\uc81c\\uc8fc\\uc2dc\"],\"xaxis\":\"x\",\"y\":[168063,304419],\"yaxis\":\"y\",\"type\":\"funnel\"},{\"hovertemplate\":\"<b>%{hovertext}</b><br><br>\\uc5c5\\uc885\\uba85=\\uccb4\\uc778\\ud654 \\ud3b8\\uc758\\uc810<br>\\uc2dc\\ub3c4\\uba85=%{x}<br>\\uc774\\uc6a9\\uae08\\uc561=%{y}<extra></extra>\",\"hovertext\":[\"\\uccb4\\uc778\\ud654 \\ud3b8\\uc758\\uc810\",\"\\uccb4\\uc778\\ud654 \\ud3b8\\uc758\\uc810\"],\"legendgroup\":\"\\uccb4\\uc778\\ud654 \\ud3b8\\uc758\\uc810\",\"marker\":{\"color\":\"#EF553B\"},\"name\":\"\\uccb4\\uc778\\ud654 \\ud3b8\\uc758\\uc810\",\"orientation\":\"v\",\"showlegend\":true,\"x\":[\"\\uc11c\\uadc0\\ud3ec\\uc2dc\",\"\\uc81c\\uc8fc\\uc2dc\"],\"xaxis\":\"x\",\"y\":[115121,172289],\"yaxis\":\"y\",\"type\":\"funnel\"},{\"hovertemplate\":\"<b>%{hovertext}</b><br><br>\\uc5c5\\uc885\\uba85=\\ud0dd\\uc2dc \\uc6b4\\uc1a1\\uc5c5<br>\\uc2dc\\ub3c4\\uba85=%{x}<br>\\uc774\\uc6a9\\uae08\\uc561=%{y}<extra></extra>\",\"hovertext\":[\"\\ud0dd\\uc2dc \\uc6b4\\uc1a1\\uc5c5\",\"\\ud0dd\\uc2dc \\uc6b4\\uc1a1\\uc5c5\"],\"legendgroup\":\"\\ud0dd\\uc2dc \\uc6b4\\uc1a1\\uc5c5\",\"marker\":{\"color\":\"#00cc96\"},\"name\":\"\\ud0dd\\uc2dc \\uc6b4\\uc1a1\\uc5c5\",\"orientation\":\"v\",\"showlegend\":true,\"x\":[\"\\uc11c\\uadc0\\ud3ec\\uc2dc\",\"\\uc81c\\uc8fc\\uc2dc\"],\"xaxis\":\"x\",\"y\":[1,10],\"yaxis\":\"y\",\"type\":\"funnel\"},{\"hovertemplate\":\"<b>%{hovertext}</b><br><br>\\uc5c5\\uc885\\uba85=\\ud53c\\uc790, \\ud584\\ubc84\\uac70, \\uc0cc\\ub4dc\\uc704\\uce58 \\ubc0f \\uc720\\uc0ac \\uc74c\\uc2dd\\uc810\\uc5c5<br>\\uc2dc\\ub3c4\\uba85=%{x}<br>\\uc774\\uc6a9\\uae08\\uc561=%{y}<extra></extra>\",\"hovertext\":[\"\\ud53c\\uc790, \\ud584\\ubc84\\uac70, \\uc0cc\\ub4dc\\uc704\\uce58 \\ubc0f \\uc720\\uc0ac \\uc74c\\uc2dd\\uc810\\uc5c5\",\"\\ud53c\\uc790, \\ud584\\ubc84\\uac70, \\uc0cc\\ub4dc\\uc704\\uce58 \\ubc0f \\uc720\\uc0ac \\uc74c\\uc2dd\\uc810\\uc5c5\"],\"legendgroup\":\"\\ud53c\\uc790, \\ud584\\ubc84\\uac70, \\uc0cc\\ub4dc\\uc704\\uce58 \\ubc0f \\uc720\\uc0ac \\uc74c\\uc2dd\\uc810\\uc5c5\",\"marker\":{\"color\":\"#ab63fa\"},\"name\":\"\\ud53c\\uc790, \\ud584\\ubc84\\uac70, \\uc0cc\\ub4dc\\uc704\\uce58 \\ubc0f \\uc720\\uc0ac \\uc74c\\uc2dd\\uc810\\uc5c5\",\"orientation\":\"v\",\"showlegend\":true,\"x\":[\"\\uc11c\\uadc0\\ud3ec\\uc2dc\",\"\\uc81c\\uc8fc\\uc2dc\"],\"xaxis\":\"x\",\"y\":[22737,32614],\"yaxis\":\"y\",\"type\":\"funnel\"},{\"hovertemplate\":\"<b>%{hovertext}</b><br><br>\\uc5c5\\uc885\\uba85=\\ud55c\\uc2dd \\uc74c\\uc2dd\\uc810\\uc5c5<br>\\uc2dc\\ub3c4\\uba85=%{x}<br>\\uc774\\uc6a9\\uae08\\uc561=%{y}<extra></extra>\",\"hovertext\":[\"\\ud55c\\uc2dd \\uc74c\\uc2dd\\uc810\\uc5c5\",\"\\ud55c\\uc2dd \\uc74c\\uc2dd\\uc810\\uc5c5\"],\"legendgroup\":\"\\ud55c\\uc2dd \\uc74c\\uc2dd\\uc810\\uc5c5\",\"marker\":{\"color\":\"#FFA15A\"},\"name\":\"\\ud55c\\uc2dd \\uc74c\\uc2dd\\uc810\\uc5c5\",\"orientation\":\"v\",\"showlegend\":true,\"x\":[\"\\uc11c\\uadc0\\ud3ec\\uc2dc\",\"\\uc81c\\uc8fc\\uc2dc\"],\"xaxis\":\"x\",\"y\":[459466,754073],\"yaxis\":\"y\",\"type\":\"funnel\"},{\"hovertemplate\":\"<b>%{hovertext}</b><br><br>\\uc5c5\\uc885\\uba85=\\ud638\\ud154\\uc5c5<br>\\uc2dc\\ub3c4\\uba85=%{x}<br>\\uc774\\uc6a9\\uae08\\uc561=%{y}<extra></extra>\",\"hovertext\":[\"\\ud638\\ud154\\uc5c5\",\"\\ud638\\ud154\\uc5c5\"],\"legendgroup\":\"\\ud638\\ud154\\uc5c5\",\"marker\":{\"color\":\"#19d3f3\"},\"name\":\"\\ud638\\ud154\\uc5c5\",\"orientation\":\"v\",\"showlegend\":true,\"x\":[\"\\uc11c\\uadc0\\ud3ec\\uc2dc\",\"\\uc81c\\uc8fc\\uc2dc\"],\"xaxis\":\"x\",\"y\":[79246,71223],\"yaxis\":\"y\",\"type\":\"funnel\"},{\"hovertemplate\":\"<b>%{hovertext}</b><br><br>\\uc5c5\\uc885\\uba85=\\ud654\\uc7a5\\ud488 \\ubc0f \\ubc29\\ud5a5\\uc81c \\uc18c\\ub9e4\\uc5c5<br>\\uc2dc\\ub3c4\\uba85=%{x}<br>\\uc774\\uc6a9\\uae08\\uc561=%{y}<extra></extra>\",\"hovertext\":[\"\\ud654\\uc7a5\\ud488 \\ubc0f \\ubc29\\ud5a5\\uc81c \\uc18c\\ub9e4\\uc5c5\",\"\\ud654\\uc7a5\\ud488 \\ubc0f \\ubc29\\ud5a5\\uc81c \\uc18c\\ub9e4\\uc5c5\"],\"legendgroup\":\"\\ud654\\uc7a5\\ud488 \\ubc0f \\ubc29\\ud5a5\\uc81c \\uc18c\\ub9e4\\uc5c5\",\"marker\":{\"color\":\"#FF6692\"},\"name\":\"\\ud654\\uc7a5\\ud488 \\ubc0f \\ubc29\\ud5a5\\uc81c \\uc18c\\ub9e4\\uc5c5\",\"orientation\":\"v\",\"showlegend\":true,\"x\":[\"\\uc11c\\uadc0\\ud3ec\\uc2dc\",\"\\uc81c\\uc8fc\\uc2dc\"],\"xaxis\":\"x\",\"y\":[16787,24373],\"yaxis\":\"y\",\"type\":\"funnel\"},{\"hovertemplate\":\"<b>%{hovertext}</b><br><br>\\uc5c5\\uc885\\uba85=\\ud734\\uc591\\ucf58\\ub3c4 \\uc6b4\\uc601\\uc5c5<br>\\uc2dc\\ub3c4\\uba85=%{x}<br>\\uc774\\uc6a9\\uae08\\uc561=%{y}<extra></extra>\",\"hovertext\":[\"\\ud734\\uc591\\ucf58\\ub3c4 \\uc6b4\\uc601\\uc5c5\",\"\\ud734\\uc591\\ucf58\\ub3c4 \\uc6b4\\uc601\\uc5c5\"],\"legendgroup\":\"\\ud734\\uc591\\ucf58\\ub3c4 \\uc6b4\\uc601\\uc5c5\",\"marker\":{\"color\":\"#B6E880\"},\"name\":\"\\ud734\\uc591\\ucf58\\ub3c4 \\uc6b4\\uc601\\uc5c5\",\"orientation\":\"v\",\"showlegend\":true,\"x\":[\"\\uc11c\\uadc0\\ud3ec\\uc2dc\",\"\\uc81c\\uc8fc\\uc2dc\"],\"xaxis\":\"x\",\"y\":[42933,18893],\"yaxis\":\"y\",\"type\":\"funnel\"},{\"hovertemplate\":\"<b>%{hovertext}</b><br><br>\\uc5c5\\uc885\\uba85=\\ubc84\\uc2a4 \\uc6b4\\uc1a1\\uc5c5<br>\\uc2dc\\ub3c4\\uba85=%{x}<br>\\uc774\\uc6a9\\uae08\\uc561=%{y}<extra></extra>\",\"hovertext\":[\"\\ubc84\\uc2a4 \\uc6b4\\uc1a1\\uc5c5\"],\"legendgroup\":\"\\ubc84\\uc2a4 \\uc6b4\\uc1a1\\uc5c5\",\"marker\":{\"color\":\"#FF97FF\"},\"name\":\"\\ubc84\\uc2a4 \\uc6b4\\uc1a1\\uc5c5\",\"orientation\":\"v\",\"showlegend\":true,\"x\":[\"\\uc81c\\uc8fc\\uc2dc\"],\"xaxis\":\"x\",\"y\":[55],\"yaxis\":\"y\",\"type\":\"funnel\"}],                        {\"template\":{\"data\":{\"histogram2dcontour\":[{\"type\":\"histogram2dcontour\",\"colorbar\":{\"outlinewidth\":0,\"ticks\":\"\"},\"colorscale\":[[0.0,\"#0d0887\"],[0.1111111111111111,\"#46039f\"],[0.2222222222222222,\"#7201a8\"],[0.3333333333333333,\"#9c179e\"],[0.4444444444444444,\"#bd3786\"],[0.5555555555555556,\"#d8576b\"],[0.6666666666666666,\"#ed7953\"],[0.7777777777777778,\"#fb9f3a\"],[0.8888888888888888,\"#fdca26\"],[1.0,\"#f0f921\"]]}],\"choropleth\":[{\"type\":\"choropleth\",\"colorbar\":{\"outlinewidth\":0,\"ticks\":\"\"}}],\"histogram2d\":[{\"type\":\"histogram2d\",\"colorbar\":{\"outlinewidth\":0,\"ticks\":\"\"},\"colorscale\":[[0.0,\"#0d0887\"],[0.1111111111111111,\"#46039f\"],[0.2222222222222222,\"#7201a8\"],[0.3333333333333333,\"#9c179e\"],[0.4444444444444444,\"#bd3786\"],[0.5555555555555556,\"#d8576b\"],[0.6666666666666666,\"#ed7953\"],[0.7777777777777778,\"#fb9f3a\"],[0.8888888888888888,\"#fdca26\"],[1.0,\"#f0f921\"]]}],\"heatmap\":[{\"type\":\"heatmap\",\"colorbar\":{\"outlinewidth\":0,\"ticks\":\"\"},\"colorscale\":[[0.0,\"#0d0887\"],[0.1111111111111111,\"#46039f\"],[0.2222222222222222,\"#7201a8\"],[0.3333333333333333,\"#9c179e\"],[0.4444444444444444,\"#bd3786\"],[0.5555555555555556,\"#d8576b\"],[0.6666666666666666,\"#ed7953\"],[0.7777777777777778,\"#fb9f3a\"],[0.8888888888888888,\"#fdca26\"],[1.0,\"#f0f921\"]]}],\"heatmapgl\":[{\"type\":\"heatmapgl\",\"colorbar\":{\"outlinewidth\":0,\"ticks\":\"\"},\"colorscale\":[[0.0,\"#0d0887\"],[0.1111111111111111,\"#46039f\"],[0.2222222222222222,\"#7201a8\"],[0.3333333333333333,\"#9c179e\"],[0.4444444444444444,\"#bd3786\"],[0.5555555555555556,\"#d8576b\"],[0.6666666666666666,\"#ed7953\"],[0.7777777777777778,\"#fb9f3a\"],[0.8888888888888888,\"#fdca26\"],[1.0,\"#f0f921\"]]}],\"contourcarpet\":[{\"type\":\"contourcarpet\",\"colorbar\":{\"outlinewidth\":0,\"ticks\":\"\"}}],\"contour\":[{\"type\":\"contour\",\"colorbar\":{\"outlinewidth\":0,\"ticks\":\"\"},\"colorscale\":[[0.0,\"#0d0887\"],[0.1111111111111111,\"#46039f\"],[0.2222222222222222,\"#7201a8\"],[0.3333333333333333,\"#9c179e\"],[0.4444444444444444,\"#bd3786\"],[0.5555555555555556,\"#d8576b\"],[0.6666666666666666,\"#ed7953\"],[0.7777777777777778,\"#fb9f3a\"],[0.8888888888888888,\"#fdca26\"],[1.0,\"#f0f921\"]]}],\"surface\":[{\"type\":\"surface\",\"colorbar\":{\"outlinewidth\":0,\"ticks\":\"\"},\"colorscale\":[[0.0,\"#0d0887\"],[0.1111111111111111,\"#46039f\"],[0.2222222222222222,\"#7201a8\"],[0.3333333333333333,\"#9c179e\"],[0.4444444444444444,\"#bd3786\"],[0.5555555555555556,\"#d8576b\"],[0.6666666666666666,\"#ed7953\"],[0.7777777777777778,\"#fb9f3a\"],[0.8888888888888888,\"#fdca26\"],[1.0,\"#f0f921\"]]}],\"mesh3d\":[{\"type\":\"mesh3d\",\"colorbar\":{\"outlinewidth\":0,\"ticks\":\"\"}}],\"scatter\":[{\"fillpattern\":{\"fillmode\":\"overlay\",\"size\":10,\"solidity\":0.2},\"type\":\"scatter\"}],\"parcoords\":[{\"type\":\"parcoords\",\"line\":{\"colorbar\":{\"outlinewidth\":0,\"ticks\":\"\"}}}],\"scatterpolargl\":[{\"type\":\"scatterpolargl\",\"marker\":{\"colorbar\":{\"outlinewidth\":0,\"ticks\":\"\"}}}],\"bar\":[{\"error_x\":{\"color\":\"#2a3f5f\"},\"error_y\":{\"color\":\"#2a3f5f\"},\"marker\":{\"line\":{\"color\":\"#E5ECF6\",\"width\":0.5},\"pattern\":{\"fillmode\":\"overlay\",\"size\":10,\"solidity\":0.2}},\"type\":\"bar\"}],\"scattergeo\":[{\"type\":\"scattergeo\",\"marker\":{\"colorbar\":{\"outlinewidth\":0,\"ticks\":\"\"}}}],\"scatterpolar\":[{\"type\":\"scatterpolar\",\"marker\":{\"colorbar\":{\"outlinewidth\":0,\"ticks\":\"\"}}}],\"histogram\":[{\"marker\":{\"pattern\":{\"fillmode\":\"overlay\",\"size\":10,\"solidity\":0.2}},\"type\":\"histogram\"}],\"scattergl\":[{\"type\":\"scattergl\",\"marker\":{\"colorbar\":{\"outlinewidth\":0,\"ticks\":\"\"}}}],\"scatter3d\":[{\"type\":\"scatter3d\",\"line\":{\"colorbar\":{\"outlinewidth\":0,\"ticks\":\"\"}},\"marker\":{\"colorbar\":{\"outlinewidth\":0,\"ticks\":\"\"}}}],\"scattermapbox\":[{\"type\":\"scattermapbox\",\"marker\":{\"colorbar\":{\"outlinewidth\":0,\"ticks\":\"\"}}}],\"scatterternary\":[{\"type\":\"scatterternary\",\"marker\":{\"colorbar\":{\"outlinewidth\":0,\"ticks\":\"\"}}}],\"scattercarpet\":[{\"type\":\"scattercarpet\",\"marker\":{\"colorbar\":{\"outlinewidth\":0,\"ticks\":\"\"}}}],\"carpet\":[{\"aaxis\":{\"endlinecolor\":\"#2a3f5f\",\"gridcolor\":\"white\",\"linecolor\":\"white\",\"minorgridcolor\":\"white\",\"startlinecolor\":\"#2a3f5f\"},\"baxis\":{\"endlinecolor\":\"#2a3f5f\",\"gridcolor\":\"white\",\"linecolor\":\"white\",\"minorgridcolor\":\"white\",\"startlinecolor\":\"#2a3f5f\"},\"type\":\"carpet\"}],\"table\":[{\"cells\":{\"fill\":{\"color\":\"#EBF0F8\"},\"line\":{\"color\":\"white\"}},\"header\":{\"fill\":{\"color\":\"#C8D4E3\"},\"line\":{\"color\":\"white\"}},\"type\":\"table\"}],\"barpolar\":[{\"marker\":{\"line\":{\"color\":\"#E5ECF6\",\"width\":0.5},\"pattern\":{\"fillmode\":\"overlay\",\"size\":10,\"solidity\":0.2}},\"type\":\"barpolar\"}],\"pie\":[{\"automargin\":true,\"type\":\"pie\"}]},\"layout\":{\"autotypenumbers\":\"strict\",\"colorway\":[\"#636efa\",\"#EF553B\",\"#00cc96\",\"#ab63fa\",\"#FFA15A\",\"#19d3f3\",\"#FF6692\",\"#B6E880\",\"#FF97FF\",\"#FECB52\"],\"font\":{\"color\":\"#2a3f5f\"},\"hovermode\":\"closest\",\"hoverlabel\":{\"align\":\"left\"},\"paper_bgcolor\":\"white\",\"plot_bgcolor\":\"#E5ECF6\",\"polar\":{\"bgcolor\":\"#E5ECF6\",\"angularaxis\":{\"gridcolor\":\"white\",\"linecolor\":\"white\",\"ticks\":\"\"},\"radialaxis\":{\"gridcolor\":\"white\",\"linecolor\":\"white\",\"ticks\":\"\"}},\"ternary\":{\"bgcolor\":\"#E5ECF6\",\"aaxis\":{\"gridcolor\":\"white\",\"linecolor\":\"white\",\"ticks\":\"\"},\"baxis\":{\"gridcolor\":\"white\",\"linecolor\":\"white\",\"ticks\":\"\"},\"caxis\":{\"gridcolor\":\"white\",\"linecolor\":\"white\",\"ticks\":\"\"}},\"coloraxis\":{\"colorbar\":{\"outlinewidth\":0,\"ticks\":\"\"}},\"colorscale\":{\"sequential\":[[0.0,\"#0d0887\"],[0.1111111111111111,\"#46039f\"],[0.2222222222222222,\"#7201a8\"],[0.3333333333333333,\"#9c179e\"],[0.4444444444444444,\"#bd3786\"],[0.5555555555555556,\"#d8576b\"],[0.6666666666666666,\"#ed7953\"],[0.7777777777777778,\"#fb9f3a\"],[0.8888888888888888,\"#fdca26\"],[1.0,\"#f0f921\"]],\"sequentialminus\":[[0.0,\"#0d0887\"],[0.1111111111111111,\"#46039f\"],[0.2222222222222222,\"#7201a8\"],[0.3333333333333333,\"#9c179e\"],[0.4444444444444444,\"#bd3786\"],[0.5555555555555556,\"#d8576b\"],[0.6666666666666666,\"#ed7953\"],[0.7777777777777778,\"#fb9f3a\"],[0.8888888888888888,\"#fdca26\"],[1.0,\"#f0f921\"]],\"diverging\":[[0,\"#8e0152\"],[0.1,\"#c51b7d\"],[0.2,\"#de77ae\"],[0.3,\"#f1b6da\"],[0.4,\"#fde0ef\"],[0.5,\"#f7f7f7\"],[0.6,\"#e6f5d0\"],[0.7,\"#b8e186\"],[0.8,\"#7fbc41\"],[0.9,\"#4d9221\"],[1,\"#276419\"]]},\"xaxis\":{\"gridcolor\":\"white\",\"linecolor\":\"white\",\"ticks\":\"\",\"title\":{\"standoff\":15},\"zerolinecolor\":\"white\",\"automargin\":true,\"zerolinewidth\":2},\"yaxis\":{\"gridcolor\":\"white\",\"linecolor\":\"white\",\"ticks\":\"\",\"title\":{\"standoff\":15},\"zerolinecolor\":\"white\",\"automargin\":true,\"zerolinewidth\":2},\"scene\":{\"xaxis\":{\"backgroundcolor\":\"#E5ECF6\",\"gridcolor\":\"white\",\"linecolor\":\"white\",\"showbackground\":true,\"ticks\":\"\",\"zerolinecolor\":\"white\",\"gridwidth\":2},\"yaxis\":{\"backgroundcolor\":\"#E5ECF6\",\"gridcolor\":\"white\",\"linecolor\":\"white\",\"showbackground\":true,\"ticks\":\"\",\"zerolinecolor\":\"white\",\"gridwidth\":2},\"zaxis\":{\"backgroundcolor\":\"#E5ECF6\",\"gridcolor\":\"white\",\"linecolor\":\"white\",\"showbackground\":true,\"ticks\":\"\",\"zerolinecolor\":\"white\",\"gridwidth\":2}},\"shapedefaults\":{\"line\":{\"color\":\"#2a3f5f\"}},\"annotationdefaults\":{\"arrowcolor\":\"#2a3f5f\",\"arrowhead\":0,\"arrowwidth\":1},\"geo\":{\"bgcolor\":\"white\",\"landcolor\":\"#E5ECF6\",\"subunitcolor\":\"white\",\"showland\":true,\"showlakes\":true,\"lakecolor\":\"white\"},\"title\":{\"x\":0.05},\"mapbox\":{\"style\":\"light\"}}},\"xaxis\":{\"anchor\":\"y\",\"domain\":[0.0,1.0],\"title\":{\"text\":\"\\uc2dc\\ub3c4\\uba85\"}},\"yaxis\":{\"anchor\":\"x\",\"domain\":[0.0,1.0],\"title\":{\"text\":\"\\uc774\\uc6a9\\uae08\\uc561\"}},\"legend\":{\"title\":{\"text\":\"\\uc5c5\\uc885\\uba85\"},\"tracegroupgap\":0},\"margin\":{\"t\":60},\"height\":750,\"width\":750,\"title\":{\"font\":{\"family\":\"Malgun Gothic\",\"size\":22,\"color\":\"#000000\"},\"text\":\"<b>\\uc81c\\uc8fc \\uc5c5\\uc885\\ubcc4 \\ub204\\uc801 \\ub9e4\\ucd9c\\uc561</b><br><sup>( \\uae30\\uac04 : 2018\\ub144 ~ 2020\\ub144 4\\uc6d4\\uae4c\\uc9c0 / \\uae08\\uc561\\ub2e8\\uc704 : (\\ubc31\\ub9cc\\uc6d0)</sup>\",\"x\":0.5}},                        {\"responsive\": true}                    ).then(function(){\n",
       "                            \n",
       "var gd = document.getElementById('96b69815-f16b-41ef-a5ec-37931aed9dc6');\n",
       "var x = new MutationObserver(function (mutations, observer) {{\n",
       "        var display = window.getComputedStyle(gd).display;\n",
       "        if (!display || display === 'none') {{\n",
       "            console.log([gd, 'removed!']);\n",
       "            Plotly.purge(gd);\n",
       "            observer.disconnect();\n",
       "        }}\n",
       "}});\n",
       "\n",
       "// Listen for the removal of the full notebook cells\n",
       "var notebookContainer = gd.closest('#notebook-container');\n",
       "if (notebookContainer) {{\n",
       "    x.observe(notebookContainer, {childList: true});\n",
       "}}\n",
       "\n",
       "// Listen for the clearing of the current output cell\n",
       "var outputEl = gd.closest('.output');\n",
       "if (outputEl) {{\n",
       "    x.observe(outputEl, {childList: true});\n",
       "}}\n",
       "\n",
       "                        })                };                });            </script>        </div>"
      ]
     },
     "metadata": {},
     "output_type": "display_data"
    }
   ],
   "source": [
    "# 경고 메세지 숨기기 \n",
    "import warnings\n",
    "warnings.filterwarnings(action='ignore')\n",
    "\n",
    "import numpy as np\n",
    "import pandas as pd\n",
    "import matplotlib.pyplot as plt\n",
    "\n",
    "\n",
    "import plotly.express as px\n",
    "# https://plotly.com/python/plotly-fundamentals/\n",
    "\n",
    "import plotly.graph_objects as go\n",
    "\n",
    "# 그래프 설정\n",
    "plt.rcParams['font.family'] = 'Malgun Gothic'\n",
    "# plt.rcParams['font.family'] = 'AppleGothic'\n",
    "plt.rcParams['font.size'] = 16\n",
    "plt.rcParams['figure.figsize'] = 20, 10\n",
    "\n",
    "# 그래프에서 마이너스 폰트 깨지는 문제에 대한 대처\n",
    "plt.rcParams['axes.unicode_minus'] = False\n",
    "\n",
    "# 글꼴 선명화 \n",
    "%config InlineBackend.figure_format = 'retina'\n",
    "\n",
    "\n",
    "df = pd.read_csv('./제주특별자치도_주제8_유동인구 비율 대비 지역별 인기있는 업종 추천 데이터_매쉬업결과_20201215.csv', encoding='cp949')\n",
    "df.drop(['데이터기준일자', '총 유동인구'], axis=1, inplace=True)\n",
    "\n",
    "\n",
    "# 업종명 면세점 찾기\n",
    "df[df['업종명'] == \"면세점\"]\n",
    "# 면세점에 해당하는 인덱스\n",
    "df[df['업종명'] == \"면세점\"].index\n",
    "del_1 = df[df['업종명'] == \"면세점\"].index\n",
    "# 행 삭제하기\n",
    "df.drop(del_1, inplace=True)\n",
    "\n",
    "# 업종명 정기 항공 운송업 찾기\n",
    "df[df['업종명'] == \"정기 항공 운송업\"]\n",
    "# 정기 항공 운송업 해당하는 인덱스\n",
    "df[df['업종명'] == \"정기 항공 운송업\"].index\n",
    "del_1 = df[df['업종명'] == \"정기 항공 운송업\"].index\n",
    "# 행 삭제하기\n",
    "df.drop(del_1, inplace=True)\n",
    "\n",
    "# 업종명 정기 항공 운송업 찾기\n",
    "df[df['업종명'] == \"기타 갬블링 및 베팅업\"]\n",
    "# 정기 항공 운송업 해당하는 인덱스\n",
    "df[df['업종명'] == \"기타 갬블링 및 베팅업\"].index\n",
    "del_1 = df[df['업종명'] == \"기타 갬블링 및 베팅업\"].index\n",
    "# 행 삭제하기\n",
    "df.drop(del_1, inplace=True)\n",
    "\n",
    "\n",
    "df.query('시도명 == \"서귀포시\"').groupby(['시도명','업종명']).sum() // 1000000\n",
    "data1 = df.query('시도명 == \"서귀포시\"').groupby(['시도명','업종명']).sum() // 1000000\n",
    "data1.reset_index(inplace=True)\n",
    "\n",
    "df.query('시도명 == \"제주시\"').groupby(['시도명','업종명']).sum() // 1000000\n",
    "data2 = df.query('시도명 == \"제주시\"').groupby(['시도명','업종명']).sum() // 1000000\n",
    "data2.reset_index(inplace=True)\n",
    "\n",
    "df1 = pd.concat([data1, data2], axis=0)\n",
    "\n",
    "fig3 = px.funnel(data_frame=df1, width=750, height=750,\n",
    "                 x='시도명', y='이용금액',\n",
    "                color = '업종명',\n",
    "                hover_name='업종명')\n",
    "# 그래프 제목 설명\n",
    "fig3.update_layout(\n",
    "        title=dict(\n",
    "        # <br> 태크와 <sup>태그 사용해서 서브 타이틀을 작성할 수 있음\n",
    "        text='<b>제주 업종별 누적 매출액</b><br><sup>( 기간 : 2018년 ~ 2020년 4월까지 / 금액단위 : (백만원)</sup>',\n",
    "        x=0.5,\n",
    "        font=dict(\n",
    "            family=\"Malgun Gothic\",\n",
    "            size=22,\n",
    "            color=\"#000000\"\n",
    "        )))\n",
    "fig3.show()"
   ]
  },
  {
   "cell_type": "code",
   "execution_count": 11,
   "id": "ab6f2396",
   "metadata": {},
   "outputs": [],
   "source": [
    "# html 저장하기\n",
    "# f = open(\"파일경로.html\",\"w\")\n",
    "\n",
    "b = fig3.to_html()\n",
    "f = open(\"b.html\",\"w\")\n",
    "f.write(b)\n",
    "f.close()"
   ]
  },
  {
   "cell_type": "code",
   "execution_count": null,
   "id": "daaa2952",
   "metadata": {},
   "outputs": [],
   "source": []
  }
 ],
 "metadata": {
  "kernelspec": {
   "display_name": "Python 3 (ipykernel)",
   "language": "python",
   "name": "python3"
  },
  "language_info": {
   "codemirror_mode": {
    "name": "ipython",
    "version": 3
   },
   "file_extension": ".py",
   "mimetype": "text/x-python",
   "name": "python",
   "nbconvert_exporter": "python",
   "pygments_lexer": "ipython3",
   "version": "3.9.12"
  }
 },
 "nbformat": 4,
 "nbformat_minor": 5
}
